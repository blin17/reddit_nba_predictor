{
 "cells": [
  {
   "cell_type": "code",
   "execution_count": 6,
   "metadata": {
    "collapsed": true
   },
   "outputs": [],
   "source": [
    "'''\n",
    "Analysis of /r/nba Posts\n",
    "@author: Brian Lin\n",
    "'''\n",
    "%matplotlib inline\n",
    "import pandas as pd\n",
    "import numpy as np\n",
    "import matplotlib.pyplot as plt\n",
    "import os\n",
    "import re"
   ]
  },
  {
   "cell_type": "code",
   "execution_count": 7,
   "metadata": {
    "collapsed": false
   },
   "outputs": [],
   "source": [
    "def return_csv_files(path):\n",
    "    pattern = r'^.*\\.csv$'\n",
    "    return [f for f in os.listdir(path) if bool(re.match(pattern,f))]\n",
    "    \n",
    "path = '../data/backlog/'\n",
    "csv_files = return_csv_files(path)\n",
    "df = pd.DataFrame()\n",
    "for csv in csv_files:\n",
    "    csv_df = pd.read_csv(path + csv)\n",
    "    df = pd.concat([df,csv_df])\n",
    "df['created'] = pd.to_datetime(df.created, unit = 's')\n",
    "df.index = range(0,len(df))"
   ]
  },
  {
   "cell_type": "code",
   "execution_count": 8,
   "metadata": {
    "collapsed": false
   },
   "outputs": [],
   "source": [
    "''' \n",
    "Randomly shuffle the dataframe and generates a training, cross-validation, and test set\n",
    "'''\n",
    "random_df = df.reindex(np.random.permutation(df.index))\n",
    "training_df = random_df.iloc[0:12000]\n",
    "cross_validation_df = random_df.iloc[12000:15000]\n",
    "test_df = random_df.iloc[15000:]"
   ]
  },
  {
   "cell_type": "code",
   "execution_count": 9,
   "metadata": {
    "collapsed": true
   },
   "outputs": [],
   "source": [
    "def front_page(score,n=150):\n",
    "    if score >= n:\n",
    "        return 1\n",
    "    else:\n",
    "        return 0\n",
    "training_Y = training_df.score.apply(front_page)\n",
    "cross_validation_Y = cross_validation_df.score.apply(front_page)\n",
    "test_Y = test_df.score.apply(front_page)"
   ]
  },
  {
   "cell_type": "code",
   "execution_count": 10,
   "metadata": {
    "collapsed": false
   },
   "outputs": [],
   "source": [
    "common_words = pd.read_csv('../lib/common_words.txt', header = None)[0].values\n",
    "\n",
    "def remove_common_words(title, common_words):\n",
    "    tw = map(lambda d: d.strip(\".,:()[]!?\\\"\").lower(),title.split())\n",
    "    return [w for w in tw if w not in common_words]\n",
    "\n",
    "def generate_words_and_scores(titles, score, common_words):\n",
    "    title_words = []\n",
    "    score_words = []\n",
    "    for index in range(len(titles)):\n",
    "        title_word_list = remove_common_words(titles.iloc[index], common_words)\n",
    "        title_words.extend(title_word_list)\n",
    "        score_words.extend([scores.iloc[index]] * len(title_word_list))\n",
    "    title_words_s = pd.Series(title_words)\n",
    "    words_scores_df = pd.concat([title_words_s, pd.Series(score_words)], axis = 1)\n",
    "    words_scores_df.columns = ['word', 'score']\n",
    "    return words_scores_df\n",
    "\n",
    "titles = training_df.title\n",
    "scores = training_df.score\n",
    "word_df = generate_words_and_scores(titles,scores, common_words)\n",
    "word_df_agg = word_df.groupby('word').agg({'score':['mean','std','median','count']})"
   ]
  },
  {
   "cell_type": "code",
   "execution_count": 11,
   "metadata": {
    "collapsed": false
   },
   "outputs": [],
   "source": [
    "words_sorted_median = word_df_agg[word_df_agg[('score','count')] > 10].sort_values(by=[('score','median')], ascending=False)\n",
    "top200 = np.array(words_sorted_median[:200].index)\n",
    "bottom200 = np.array(words_sorted_median[-200:].index)\n",
    "top_bottom200 = np.array(pd.concat([words_sorted_median[:200],words_sorted_median[-200:]]).index)"
   ]
  },
  {
   "cell_type": "code",
   "execution_count": 12,
   "metadata": {
    "collapsed": false
   },
   "outputs": [],
   "source": [
    "#Generates the feature word vectors\n",
    "def create_feature_row(title, word_vec):\n",
    "    feature_row = np.zeros((len(word_vec),))\n",
    "    for word in title:\n",
    "        if word in word_vec:\n",
    "            word_index = np.where(word_vec==word)[0][0]\n",
    "            feature_row[word_index] = 1\n",
    "    return feature_row\n",
    "\n",
    "def generate_feature_vector(title_s, top_words, common_words):\n",
    "    l = []\n",
    "    for title in title_s:\n",
    "        title_r = remove_common_words(title, common_words)\n",
    "        l.append(create_feature_row(title_r, top_words))\n",
    "    return l\n",
    "\n",
    "def sanitize_titles(title_s):\n",
    "    l = []\n",
    "    for title in title_s:\n",
    "        title_r = remove_common_words(title, common_words)\n",
    "        l.append(title_r)\n",
    "    return l"
   ]
  },
  {
   "cell_type": "code",
   "execution_count": 13,
   "metadata": {
    "collapsed": true
   },
   "outputs": [],
   "source": [
    "def prediction_score(predicted_p, Y,threshold=0.5):\n",
    "    def greater_than_one_half(x):\n",
    "        if x > threshold:\n",
    "            return 1\n",
    "        else:\n",
    "            return 0\n",
    "        \n",
    "    predicted_Y = np.array([greater_than_one_half(x) for x in predicted_p])\n",
    "    true_pos = 0\n",
    "    false_pos = 0\n",
    "    true_neg = 0\n",
    "    false_neg = 0\n",
    "    for i in range(len(predicted_Y)):\n",
    "        if predicted_Y[i] == 1 and Y[i] == 1:\n",
    "            true_pos +=1\n",
    "        elif predicted_Y[i] == 1 and Y[i] == 0:\n",
    "            false_pos +=1\n",
    "        elif predicted_Y[i] == 0 and Y[i] == 1:\n",
    "            true_neg +=1\n",
    "        elif predicted_Y[i] == 0 and Y[i] == 0:\n",
    "            false_neg +=1\n",
    "    \n",
    "    wrong = float(np.sum(np.abs(predicted_Y - Y)))\n",
    "    total = float(len(predicted_Y))\n",
    "    ans = dict()\n",
    "    ans['accuracy'] =  1-(wrong/total)\n",
    "    ans['true_pos'] = true_pos\n",
    "    ans['true_neg'] = true_neg\n",
    "    ans['false_pos'] = false_pos\n",
    "    ans['false_neg'] = false_neg\n",
    "    if true_pos == 0 and false_pos == 0:\n",
    "        ans['recall'] = float(true_pos) / float((true_pos + true_neg))\n",
    "    elif true_pos == 0 and true_neg == 0:\n",
    "        ans['precision'] = float(true_pos) / float((true_pos + false_pos))\n",
    "    else:\n",
    "        ans['precision'] = float(true_pos) / float((true_pos + false_pos))\n",
    "        ans['recall'] = float(true_pos) / float((true_pos + true_neg))\n",
    "        ans['f1_score'] = 2 * ans['precision'] * ans['recall'] / (ans['precision'] + ans['recall'] )\n",
    "    return ans"
   ]
  },
  {
   "cell_type": "code",
   "execution_count": 14,
   "metadata": {
    "collapsed": false
   },
   "outputs": [],
   "source": [
    "def generate_bayes_prob(words, X, Y):\n",
    "    pxy1 = {}\n",
    "    pxy0 = {}\n",
    "    for index in range(len(words)):\n",
    "        word = words[index]\n",
    "        pxy1[word] = float(((X.iloc[:,index] == 1) & (Y == 1)).sum() +1) / float((Y.values == 1).sum() +2)\n",
    "        pxy0[word] = float(((X.iloc[:,index] == 1) & (Y == 0)).sum() +1) / float((Y.values == 0).sum() +2)\n",
    "    return pxy1, pxy0\n",
    "\n",
    "def calculate_prob(sanitized_title_list,debug=False):\n",
    "    global bayes_pxy1,bayes_pxy0, py1, py0,pno1, pno0\n",
    "    pyx1 = 1.0\n",
    "    pyx0 = 1.0\n",
    "    for word in sanitized_title_list:\n",
    "        if word in bayes_pxy1:\n",
    "            pyx1 *= bayes_pxy1[word]\n",
    "            pyx0 *= bayes_pxy0[word]\n",
    "            if debug:\n",
    "                print 'yes'\n",
    "        else:\n",
    "            # applies a factor if word not seen before\n",
    "            #pyx1 *= pno1\n",
    "            #pyx0 *= pno0\n",
    "            if debug:\n",
    "                print 'no'    \n",
    "        if debug:\n",
    "            print word, pyx1, pyx0\n",
    "    return pyx1*py1, pyx0*py0"
   ]
  },
  {
   "cell_type": "code",
   "execution_count": 15,
   "metadata": {
    "collapsed": true
   },
   "outputs": [],
   "source": [
    "#word_vector = np.array(word_df_agg.index)\n",
    "word_vector = top_bottom200\n",
    "title_features_bayes_df = pd.DataFrame(generate_feature_vector(titles,word_vector,common_words), index = training_df.index)\n",
    "sum(title_features_bayes_df.sum(axis =1) == 0)\n",
    "bayes_pxy1,bayes_pxy0 = generate_bayes_prob(word_vector, title_features_bayes_df, training_Y)\n",
    "Y = training_Y\n",
    "py1 = float(sum(Y.values == 1)) / len(Y)\n",
    "py0 = float(sum(Y.values == 0)) / len(Y)\n",
    "pno1 = 1/float(sum(Y.values == 1))\n",
    "pno0 = 1/float(sum(Y.values == 0))"
   ]
  },
  {
   "cell_type": "code",
   "execution_count": 16,
   "metadata": {
    "collapsed": false
   },
   "outputs": [
    {
     "data": {
      "text/plain": [
       "2221"
      ]
     },
     "execution_count": 16,
     "metadata": {},
     "output_type": "execute_result"
    }
   ],
   "source": [
    "sanitized_titles = sanitize_titles(training_df.title)\n",
    "class_probs = []\n",
    "for i in range(len(sanitized_titles)):\n",
    "    title = sanitized_titles[i]\n",
    "    class_probs.append(calculate_prob(title))\n",
    "probs = pd.DataFrame(class_probs)\n",
    "sum(probs[0] > probs[1])"
   ]
  },
  {
   "cell_type": "code",
   "execution_count": 17,
   "metadata": {
    "collapsed": false
   },
   "outputs": [
    {
     "data": {
      "text/html": [
       "<div>\n",
       "<table border=\"1\" class=\"dataframe\">\n",
       "  <thead>\n",
       "    <tr style=\"text-align: right;\">\n",
       "      <th></th>\n",
       "      <th>title</th>\n",
       "      <th>score</th>\n",
       "      <th>0</th>\n",
       "      <th>1</th>\n",
       "    </tr>\n",
       "  </thead>\n",
       "  <tbody>\n",
       "    <tr>\n",
       "      <th>1300</th>\n",
       "      <td>[Kennedy] Ty Lue has been fined $25,000 for pu...</td>\n",
       "      <td>543.0</td>\n",
       "      <td>4.176286e-09</td>\n",
       "      <td>3.190911e-10</td>\n",
       "    </tr>\n",
       "    <tr>\n",
       "      <th>3471</th>\n",
       "      <td>[Wojnarowski] Spanish center Willy Hernangomez...</td>\n",
       "      <td>238.0</td>\n",
       "      <td>6.409439e-07</td>\n",
       "      <td>2.417799e-08</td>\n",
       "    </tr>\n",
       "    <tr>\n",
       "      <th>9463</th>\n",
       "      <td>Vlade Divac: \"He [DeMarcus Cousins] is the mos...</td>\n",
       "      <td>164.0</td>\n",
       "      <td>1.361933e-06</td>\n",
       "      <td>9.921728e-07</td>\n",
       "    </tr>\n",
       "    <tr>\n",
       "      <th>15347</th>\n",
       "      <td>(educate me) I couldn't understand the concept...</td>\n",
       "      <td>78.0</td>\n",
       "      <td>6.662124e-04</td>\n",
       "      <td>5.832047e-04</td>\n",
       "    </tr>\n",
       "    <tr>\n",
       "      <th>11649</th>\n",
       "      <td>Remembering a time when NBC did a good thing b...</td>\n",
       "      <td>6.0</td>\n",
       "      <td>1.418681e-05</td>\n",
       "      <td>1.267776e-05</td>\n",
       "    </tr>\n",
       "  </tbody>\n",
       "</table>\n",
       "</div>"
      ],
      "text/plain": [
       "                                                   title  score             0  \\\n",
       "1300   [Kennedy] Ty Lue has been fined $25,000 for pu...  543.0  4.176286e-09   \n",
       "3471   [Wojnarowski] Spanish center Willy Hernangomez...  238.0  6.409439e-07   \n",
       "9463   Vlade Divac: \"He [DeMarcus Cousins] is the mos...  164.0  1.361933e-06   \n",
       "15347  (educate me) I couldn't understand the concept...   78.0  6.662124e-04   \n",
       "11649  Remembering a time when NBC did a good thing b...    6.0  1.418681e-05   \n",
       "\n",
       "                  1  \n",
       "1300   3.190911e-10  \n",
       "3471   2.417799e-08  \n",
       "9463   9.921728e-07  \n",
       "15347  5.832047e-04  \n",
       "11649  1.267776e-05  "
      ]
     },
     "execution_count": 17,
     "metadata": {},
     "output_type": "execute_result"
    }
   ],
   "source": [
    "probs.index = training_df.index\n",
    "pd.concat([training_df[probs[0] > probs[1]][['title','score']], probs], axis=1, join= 'inner').head()"
   ]
  },
  {
   "cell_type": "code",
   "execution_count": 18,
   "metadata": {
    "collapsed": false
   },
   "outputs": [
    {
     "data": {
      "image/png": "[encoded data removed]",
      "text/plain": [
       "<matplotlib.figure.Figure at 0x11626f7d0>"
      ]
     },
     "metadata": {},
     "output_type": "display_data"
    }
   ],
   "source": [
    "'''\n",
    "Analysis to Determine if Time of Day determines how likely a post will make the front page.\n",
    "If you find the right time to post (between 16-20)\n",
    "'''\n",
    "\n",
    "def fp_per_hour(domain= None, fp=True):\n",
    "    # returns percent of posts that make front page per hour\n",
    "    s0 = None\n",
    "    s1 = None\n",
    "    if domain == None:\n",
    "        s0 = (training_df[(Y.values == 0)].created.apply(lambda d: d.hour))\n",
    "        s1 = (training_df[(Y.values == 1)].created.apply(lambda d: d.hour))\n",
    "        sall = (training_df.created.apply(lambda d: d.hour))\n",
    "    else:\n",
    "        s0 = (training_df[(Y.values == 0) & (training_df.domain == domain)].created.apply(lambda d: d.hour))\n",
    "        s1 = (training_df[(Y.values == 1) & (training_df.domain == domain)].created.apply(lambda d: d.hour))\n",
    "        sall = (training_df[training_df.domain == domain].created.apply(lambda d: d.hour))\n",
    "    s0 = (s0.groupby(s0).size())\n",
    "    s1 = (s1.groupby(s1).size())\n",
    "    sall = sall.groupby(sall).size()\n",
    "    if fp:\n",
    "        return s1/sall\n",
    "    else:\n",
    "        return sall\n",
    "\n",
    "\n",
    "fig = plt.figure()\n",
    "ax1,ax2,ax3,ax4,ax5,ax6,ax7,ax8 = (fig.add_subplot(241), fig.add_subplot(242), fig.add_subplot(243), fig.add_subplot(244), \n",
    "                           fig.add_subplot(245), fig.add_subplot(246), fig.add_subplot(247), fig.add_subplot(248))\n",
    "fig.set_figheight(4)\n",
    "fig.set_figwidth(12)\n",
    "ax1.plot(fp_per_hour(None, False))\n",
    "ax1.set_title('# Posts')\n",
    "ax5.plot(fp_per_hour())\n",
    "ax5.set_title('% Posts making FP')\n",
    "\n",
    "ax2.plot(fp_per_hour('self.nba', False))\n",
    "ax2.set_title('# self.nba posts')\n",
    "ax6.plot(fp_per_hour('self.nba'))\n",
    "ax6.set_title('% Posts making FP')\n",
    "\n",
    "ax3.plot(fp_per_hour('twitter.com', False))\n",
    "ax3.set_title('# Twitter posts')\n",
    "ax7.plot(fp_per_hour('twitter.com'))\n",
    "ax7.set_title('% Twitter Posts making FP')\n",
    "                                   \n",
    "ax4.plot(fp_per_hour('youtube.com', False))\n",
    "ax4.set_title('# Youtube posts')\n",
    "ax8.plot(fp_per_hour('youtube.com'))\n",
    "ax8.set_title('% Youtube Posts making FP')\n",
    "                                   \n",
    "fig.tight_layout()"
   ]
  },
  {
   "cell_type": "code",
   "execution_count": 19,
   "metadata": {
    "collapsed": false
   },
   "outputs": [
    {
     "data": {
      "text/plain": [
       "{'accuracy': 0.7741666666666667,\n",
       " 'f1_score': 0.47419480015521925,\n",
       " 'false_neg': 8068,\n",
       " 'false_pos': 999,\n",
       " 'precision': 0.55020261143629,\n",
       " 'recall': 0.4166382543470849,\n",
       " 'true_neg': 1711,\n",
       " 'true_pos': 1222}"
      ]
     },
     "execution_count": 19,
     "metadata": {},
     "output_type": "execute_result"
    }
   ],
   "source": [
    "Y_predicted3 = probs.apply(lambda d: 1 if d[0] > d[1] else 0, axis = 1)\n",
    "predicted_Y3 = np.array(Y_predicted3)\n",
    "p_score = prediction_score(predicted_Y3, Y.values)\n",
    "p_score"
   ]
  },
  {
   "cell_type": "code",
   "execution_count": 20,
   "metadata": {
    "collapsed": false,
    "scrolled": true
   },
   "outputs": [
    {
     "data": {
      "text/plain": [
       "<matplotlib.axes._subplots.AxesSubplot at 0x114b21990>"
      ]
     },
     "execution_count": 20,
     "metadata": {},
     "output_type": "execute_result"
    },
    {
     "data": {
      "image/png": "[encoded data removed]",
      "text/plain": [
       "<matplotlib.figure.Figure at 0x1152a5350>"
      ]
     },
     "metadata": {},
     "output_type": "display_data"
    }
   ],
   "source": [
    "training_df[(predicted_Y3 == 1) & (Y.values == 1)][['title','score','domain','created']].domain.value_counts()[:15].plot(kind='barh')"
   ]
  },
  {
   "cell_type": "code",
   "execution_count": null,
   "metadata": {
    "collapsed": true
   },
   "outputs": [],
   "source": []
  }
 ],
 "metadata": {
  "anaconda-cloud": {},
  "kernelspec": {
   "display_name": "Python [Root]",
   "language": "python",
   "name": "Python [Root]"
  },
  "language_info": {
   "codemirror_mode": {
    "name": "ipython",
    "version": 2
   },
   "file_extension": ".py",
   "mimetype": "text/x-python",
   "name": "python",
   "nbconvert_exporter": "python",
   "pygments_lexer": "ipython2",
   "version": "2.7.12"
  }
 },
 "nbformat": 4,
 "nbformat_minor": 0
}
