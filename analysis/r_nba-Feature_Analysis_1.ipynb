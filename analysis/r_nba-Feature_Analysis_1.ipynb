{
 "cells": [
  {
   "cell_type": "code",
   "execution_count": 1,
   "metadata": {
    "collapsed": false
   },
   "outputs": [],
   "source": [
    "'''\n",
    "Analysis of /r/nba Posts\n",
    "@author: Brian Lin\n",
    "'''\n",
    "%matplotlib inline\n",
    "import pandas as pd\n",
    "import numpy as np\n",
    "import matplotlib.pyplot as plt\n",
    "import os\n",
    "import re\n",
    "import scipy.stats as stats\n",
    "from scipy.optimize import minimize\n",
    "from sklearn import metrics\n",
    "from sklearn.preprocessing import PolynomialFeatures"
   ]
  },
  {
   "cell_type": "code",
   "execution_count": 2,
   "metadata": {
    "collapsed": true
   },
   "outputs": [],
   "source": [
    "def return_csv_files(path):\n",
    "    pattern = r'^.*\\.csv$'\n",
    "    return [f for f in os.listdir(path) if bool(re.match(pattern,f))]\n",
    "    \n",
    "path = '../data/backlog/'\n",
    "csv_files = return_csv_files(path)\n",
    "df = pd.DataFrame()\n",
    "for csv in csv_files:\n",
    "    csv_df = pd.read_csv(path + csv)\n",
    "    df = pd.concat([df,csv_df])\n",
    "df['created'] = pd.to_datetime(df.created, unit = 's')\n",
    "df.index = range(0,len(df))\n",
    "# 18,001 total examples with no duplicates"
   ]
  },
  {
   "cell_type": "code",
   "execution_count": 3,
   "metadata": {
    "collapsed": false
   },
   "outputs": [
    {
     "data": {
      "image/png": "[encoded data removed]",
      "text/plain": [
       "<matplotlib.figure.Figure at 0x115b289d0>"
      ]
     },
     "metadata": {},
     "output_type": "display_data"
    }
   ],
   "source": [
    "'''\n",
    "How Domains affect score and number of posts\n",
    "'''\n",
    "top_domains = ['selfnba', 'twitter','youtube','streamable','instagram','espn','imgur','nbacom','theringer','yahoo','bleacherreport']\n",
    "domain_df = pd.DataFrame()\n",
    "domains = df.domain.apply(lambda d: ''.join(d.split('.')))\n",
    "\n",
    "def strip_domain(d):\n",
    "    for td in top_domains:\n",
    "        if td in d:\n",
    "            return td\n",
    "    return 'other'\n",
    "\n",
    "\n",
    "domain_df['domain'] = domains.apply(strip_domain)\n",
    "domain_df['score'] = df.score\n",
    "for td in top_domains:\n",
    "    domain_df[td] = domains.apply(lambda d: 1 if td in d else 0)\n",
    "    \n",
    "def normalize(column):\n",
    "    mean = np.mean(column)\n",
    "    sd = np.std(column)\n",
    "    return column.apply(lambda d: (d-mean)/sd)\n",
    "\n",
    "def plot_normalized_scatter(x,y,labels):\n",
    "    fig, ax = plt.subplots()\n",
    "    ax.scatter(x,y)\n",
    "    for i, txt in enumerate(n):\n",
    "        ax.annotate(txt, (x[i],y[i]))\n",
    "    plt.plot([0,0], [-5,5], color='k')\n",
    "    plt.plot([5,-5], [0,0], color='k')\n",
    "    plt.xlim(-1, 3.5)\n",
    "    plt.ylim(-1.5, 3.5)\n",
    "    plt.ylabel('Avg Score (normalized)')\n",
    "    plt.xlabel('# Posts (normalized)')\n",
    "    \n",
    "\n",
    "norm_domain_df = domain_df.groupby('domain').agg({'score':[np.mean,np.size]}).apply(normalize)\n",
    "x = norm_domain_df['score']['size']\n",
    "y = norm_domain_df['score']['mean']\n",
    "n = norm_domain_df.index\n",
    "\n",
    "plot_normalized_scatter(x,y,n)"
   ]
  },
  {
   "cell_type": "code",
   "execution_count": 4,
   "metadata": {
    "collapsed": false
   },
   "outputs": [
    {
     "data": {
      "text/plain": [
       "count    18001.000000\n",
       "mean       210.539970\n",
       "std        548.597572\n",
       "min          0.000000\n",
       "25%          6.000000\n",
       "50%         27.000000\n",
       "75%        144.000000\n",
       "max       6296.000000\n",
       "Name: score, dtype: float64"
      ]
     },
     "execution_count": 4,
     "metadata": {},
     "output_type": "execute_result"
    }
   ],
   "source": [
    "def front_page_or_not(score,flag = 0):\n",
    "    # karma >= 150 = front_page, s = 1\n",
    "    # 150 > karma >= 50 = iffy, s = 0.5\n",
    "    # 50 > karma = not front_page, s = 0\n",
    "    if score >= 150:\n",
    "        return 1\n",
    "    elif score >= 50:\n",
    "        if flag == 1:\n",
    "            return 1\n",
    "        else:\n",
    "            return 0.5\n",
    "    else:\n",
    "        return 0\n",
    "\n",
    "front_page_ser = df.score.apply(front_page_or_not)\n",
    "#front_page_ser.value_counts()\n",
    "df.score.describe()"
   ]
  },
  {
   "cell_type": "code",
   "execution_count": 5,
   "metadata": {
    "collapsed": false
   },
   "outputs": [
    {
     "name": "stdout",
     "output_type": "stream",
     "text": [
      "0.332884817554\n"
     ]
    },
    {
     "data": {
      "image/png": "[encoded data removed]",
      "text/plain": [
       "<matplotlib.figure.Figure at 0x115c2af10>"
      ]
     },
     "metadata": {},
     "output_type": "display_data"
    }
   ],
   "source": [
    "r = np.corrcoef(df.num_comments,df.score)[0][1]\n",
    "b = df.score.std()/df.num_comments.std() * r\n",
    "a = df.score.mean() - df.num_comments.mean()*b\n",
    "\n",
    "plt.scatter(df.num_comments, df.score)\n",
    "plt.plot([df.num_comments.min(),df.num_comments.max()],[df.num_comments.min()*b + a,df.num_comments.max()*b + a])\n",
    "plt.xlabel('# of Comments')\n",
    "plt.ylabel('Karma Score')\n",
    "print r"
   ]
  },
  {
   "cell_type": "code",
   "execution_count": 6,
   "metadata": {
    "collapsed": true
   },
   "outputs": [],
   "source": [
    "def prediction_score(predicted_p, Y,threshold=0.5):\n",
    "    def greater_than_one_half(x):\n",
    "        if x > threshold:\n",
    "            return 1\n",
    "        else:\n",
    "            return 0\n",
    "        \n",
    "    predicted_Y = np.array([greater_than_one_half(x) for x in predicted_p])\n",
    "    true_pos = 0\n",
    "    false_pos = 0\n",
    "    true_neg = 0\n",
    "    false_neg = 0\n",
    "    for i in range(len(predicted_Y)):\n",
    "        if predicted_Y[i] == 1 and Y[i] == 1:\n",
    "            true_pos +=1\n",
    "        elif predicted_Y[i] == 1 and Y[i] == 0:\n",
    "            false_pos +=1\n",
    "        elif predicted_Y[i] == 0 and Y[i] == 1:\n",
    "            true_neg +=1\n",
    "        elif predicted_Y[i] == 0 and Y[i] == 0:\n",
    "            false_neg +=1\n",
    "    \n",
    "    wrong = float(np.sum(np.abs(predicted_Y - Y)))\n",
    "    total = float(len(predicted_Y))\n",
    "    ans = dict()\n",
    "    ans['accuracy'] =  1-(wrong/total)\n",
    "    ans['true_pos'] = true_pos\n",
    "    ans['true_neg'] = true_neg\n",
    "    ans['false_pos'] = false_pos\n",
    "    ans['false_neg'] = false_neg\n",
    "    if true_pos == 0 and false_pos == 0:\n",
    "        ans['recall'] = float(true_pos) / float((true_pos + true_neg))\n",
    "    elif true_pos == 0 and true_neg == 0:\n",
    "        ans['precision'] = float(true_pos) / float((true_pos + false_pos))\n",
    "    else:\n",
    "        ans['precision'] = float(true_pos) / float((true_pos + false_pos))\n",
    "        ans['recall'] = float(true_pos) / float((true_pos + true_neg))\n",
    "        ans['f1_score'] = 2 * ans['precision'] * ans['recall'] / (ans['precision'] + ans['recall'] )\n",
    "    return ans"
   ]
  },
  {
   "cell_type": "code",
   "execution_count": 7,
   "metadata": {
    "collapsed": false
   },
   "outputs": [
    {
     "name": "stderr",
     "output_type": "stream",
     "text": [
      "/Users/brianlin/anaconda/lib/python2.7/site-packages/scipy/optimize/_minimize.py:381: RuntimeWarning: Method Nelder-Mead does not use gradient information (jac).\n",
      "  RuntimeWarning)\n"
     ]
    },
    {
     "data": {
      "text/plain": [
       "[]"
      ]
     },
     "execution_count": 7,
     "metadata": {},
     "output_type": "execute_result"
    },
    {
     "data": {
      "image/png": "[encoded data removed]",
      "text/plain": [
       "<matplotlib.figure.Figure at 0x116a5dc10>"
      ]
     },
     "metadata": {},
     "output_type": "display_data"
    }
   ],
   "source": [
    "def front_page(score,n=150):\n",
    "    if score >= n:\n",
    "        return 1\n",
    "    else:\n",
    "        return 0\n",
    "\n",
    "def sigmoid(z):\n",
    "    return np.power(1 + np.exp(-z), -1)\n",
    "\n",
    "def logistic_cost_regularized(theta, Xdata, Ydata, lam=1):\n",
    "    # NB Xdata must be a numpy array\n",
    "\n",
    "    m = float(len(Xdata))\n",
    "    \n",
    "    J = (\n",
    "        - 1/m * (np.log(sigmoid(Xdata.dot(theta))).dot(Ydata) + \n",
    "        np.log(1-sigmoid(Xdata.dot(theta))).dot(1-Ydata) ) + \n",
    "        lam/(2*m) * np.sum(theta[1:] ** 2) \n",
    "        )\n",
    "    if np.isnan(J):\n",
    "        return(np.inf)\n",
    "    return(J)\n",
    "\n",
    "def logistic_grad_regularized(theta, Xdata, Ydata, lam=1):\n",
    "    # NB Xdata must be a numpy array\n",
    "    m = float(len(Xdata))\n",
    "    \n",
    "    grad = theta.copy() * lam\n",
    "    grad[0] = 0\n",
    "    grad += Xdata.T.dot(sigmoid(Xdata.dot(theta))-Ydata)\n",
    "    grad *= 1/m \n",
    "    \n",
    "    return grad \n",
    "\n",
    "X = normalize(df.num_comments)\n",
    "Y = df.score.apply(front_page)\n",
    "poly = PolynomialFeatures(1)\n",
    "X_Transformed = poly.fit_transform(X.values.reshape(len(X),1))\n",
    "Y = Y.values\n",
    "theta = np.zeros((X_Transformed.shape[1],))\n",
    "res = minimize(logistic_cost_regularized, theta, args=(X_Transformed,Y), method = 'Nelder-Mead', jac=logistic_grad_regularized, options={'maxiter':400})\n",
    "\n",
    "predicted_Y = np.array(sigmoid(X_Transformed.dot(res.x)))\n",
    "\n",
    "plt.scatter(X, sigmoid(X_Transformed.dot(res.x)))\n",
    "plt.xlabel('# of Comments (Normalized)')\n",
    "plt.ylabel('P(>= 150 score)')\n",
    "plt.plot()"
   ]
  },
  {
   "cell_type": "code",
   "execution_count": 8,
   "metadata": {
    "collapsed": false
   },
   "outputs": [
    {
     "data": {
      "image/png": "[encoded data removed]",
      "text/plain": [
       "<matplotlib.figure.Figure at 0x115cd1050>"
      ]
     },
     "metadata": {},
     "output_type": "display_data"
    }
   ],
   "source": [
    "\n",
    "score_df = pd.DataFrame()\n",
    "accuracy_scores_df = []\n",
    "for threshold_val in np.arange(0.0,1.0,0.01):\n",
    "    p_score = prediction_score(predicted_Y, Y, threshold_val)\n",
    "    p_score['threshold'] = threshold_val\n",
    "    accuracy_scores_df.append(p_score)\n",
    "a_df = pd.DataFrame(accuracy_scores_df)\n",
    "\n",
    "fig = plt.figure()\n",
    "ax1 = fig.add_subplot(211)\n",
    "\n",
    "ax1.scatter(x = a_df['threshold'], y=a_df['accuracy'])\n",
    "ax1.set_xlabel('Threshold')\n",
    "ax1.set_ylabel('Accuracy')\n",
    "ax1.set_xlim(-.1,1.1)\n",
    "\n",
    "ax2 = fig.add_subplot(212)\n",
    "\n",
    "ax2.scatter(x = a_df['threshold'], y=a_df['f1_score'])\n",
    "ax2.set_xlabel('Threshold')\n",
    "ax2.set_ylabel('F1 Score')\n",
    "ax2.set_xlim(-.1,1.1)\n",
    "\n",
    "plt.show()"
   ]
  },
  {
   "cell_type": "code",
   "execution_count": 9,
   "metadata": {
    "collapsed": false
   },
   "outputs": [
    {
     "data": {
      "text/html": [
       "<div>\n",
       "<table border=\"1\" class=\"dataframe\">\n",
       "  <thead>\n",
       "    <tr style=\"text-align: right;\">\n",
       "      <th></th>\n",
       "      <th>31</th>\n",
       "      <th>30</th>\n",
       "    </tr>\n",
       "  </thead>\n",
       "  <tbody>\n",
       "    <tr>\n",
       "      <th>accuracy</th>\n",
       "      <td>0.863341</td>\n",
       "      <td>0.854564</td>\n",
       "    </tr>\n",
       "    <tr>\n",
       "      <th>f1_score</th>\n",
       "      <td>0.682253</td>\n",
       "      <td>0.712813</td>\n",
       "    </tr>\n",
       "    <tr>\n",
       "      <th>false_neg</th>\n",
       "      <td>12900.000000</td>\n",
       "      <td>12134.000000</td>\n",
       "    </tr>\n",
       "    <tr>\n",
       "      <th>false_pos</th>\n",
       "      <td>694.000000</td>\n",
       "      <td>1460.000000</td>\n",
       "    </tr>\n",
       "    <tr>\n",
       "      <th>precision</th>\n",
       "      <td>0.791904</td>\n",
       "      <td>0.689955</td>\n",
       "    </tr>\n",
       "    <tr>\n",
       "      <th>recall</th>\n",
       "      <td>0.599274</td>\n",
       "      <td>0.737236</td>\n",
       "    </tr>\n",
       "    <tr>\n",
       "      <th>threshold</th>\n",
       "      <td>0.310000</td>\n",
       "      <td>0.300000</td>\n",
       "    </tr>\n",
       "    <tr>\n",
       "      <th>true_neg</th>\n",
       "      <td>1766.000000</td>\n",
       "      <td>1158.000000</td>\n",
       "    </tr>\n",
       "    <tr>\n",
       "      <th>true_pos</th>\n",
       "      <td>2641.000000</td>\n",
       "      <td>3249.000000</td>\n",
       "    </tr>\n",
       "  </tbody>\n",
       "</table>\n",
       "</div>"
      ],
      "text/plain": [
       "                     31            30\n",
       "accuracy       0.863341      0.854564\n",
       "f1_score       0.682253      0.712813\n",
       "false_neg  12900.000000  12134.000000\n",
       "false_pos    694.000000   1460.000000\n",
       "precision      0.791904      0.689955\n",
       "recall         0.599274      0.737236\n",
       "threshold      0.310000      0.300000\n",
       "true_neg    1766.000000   1158.000000\n",
       "true_pos    2641.000000   3249.000000"
      ]
     },
     "execution_count": 9,
     "metadata": {},
     "output_type": "execute_result"
    }
   ],
   "source": [
    "# WITH ONLY NUM COMMENTS\n",
    "# If Threshold is .25, accuracy is .86, f1_score is .66\n",
    "pd.concat([a_df.iloc[a_df.accuracy.argmax()], a_df.iloc[a_df.f1_score.argmax()]], axis =1)"
   ]
  },
  {
   "cell_type": "code",
   "execution_count": 10,
   "metadata": {
    "collapsed": false
   },
   "outputs": [
    {
     "data": {
      "text/plain": [
       "X   -0.205421\n",
       "Y    0.277096\n",
       "Name: 15041, dtype: float64"
      ]
     },
     "execution_count": 10,
     "metadata": {},
     "output_type": "execute_result"
    }
   ],
   "source": [
    "num_comments_logit_df =  pd.concat([pd.DataFrame(X.values, columns= [\"X\"]),pd.DataFrame(predicted_Y, columns= [\"Y\"])], axis=1)\n",
    "num_comments_logit_df[num_comments_logit_df.Y > .25].sort_values(by=\"X\").iloc[0]"
   ]
  },
  {
   "cell_type": "code",
   "execution_count": 11,
   "metadata": {
    "collapsed": false
   },
   "outputs": [
    {
     "data": {
      "image/png": "[encoded data removed]",
      "text/plain": [
       "<matplotlib.figure.Figure at 0x1174e1110>"
      ]
     },
     "metadata": {},
     "output_type": "display_data"
    }
   ],
   "source": [
    "'''\n",
    "Using Domain and num comments to predict front page\n",
    "'''\n",
    "\n",
    "x_data = domain_df.iloc[:,2:]\n",
    "#x_data = pd.concat([x_data,df.num_comments], axis = 1)\n",
    "#x_data['num_comments'] = normalize(x_data['num_comments'])\n",
    "Y1 = df.score.apply(front_page)\n",
    "poly1 = PolynomialFeatures(1)\n",
    "X_Transformed1 = poly1.fit_transform(x_data.values)\n",
    "\n",
    "theta1 = np.zeros((X_Transformed1.shape[1],))\n",
    "res1 = minimize(logistic_cost_regularized, theta1, args=(X_Transformed1,Y1.values), \n",
    "                method = 'Nelder-Mead', jac=logistic_grad_regularized, options={'maxiter':400})\n",
    "predicted_Y1 = np.array(sigmoid(X_Transformed1.dot(res1.x)))\n",
    "accuracy_scores_df1 = []\n",
    "for threshold_val in np.arange(0.0,1.0,0.01):\n",
    "    p_score = prediction_score(predicted_Y1, Y1.values, threshold_val)\n",
    "    p_score['threshold'] = threshold_val\n",
    "    accuracy_scores_df1.append(p_score)\n",
    "a_df1 = pd.DataFrame(accuracy_scores_df1)\n",
    "a_df1\n",
    "\n",
    "\n",
    "fig = plt.figure()\n",
    "ax1 = fig.add_subplot(211)\n",
    "\n",
    "ax1.scatter(x = a_df1['threshold'], y=a_df1['accuracy'])\n",
    "ax1.set_xlabel('Threshold')\n",
    "ax1.set_ylabel('Accuracy')\n",
    "ax1.set_xlim(-.1,1.1)\n",
    "ax2 = fig.add_subplot(212)\n",
    "\n",
    "ax2.scatter(x = a_df1['threshold'], y=a_df1['f1_score'])\n",
    "ax2.set_xlabel('Threshold')\n",
    "ax2.set_ylabel('F1 Score')\n",
    "ax2.set_xlim(-.1,1.1)\n",
    "\n",
    "plt.show()"
   ]
  },
  {
   "cell_type": "code",
   "execution_count": 12,
   "metadata": {
    "collapsed": false
   },
   "outputs": [
    {
     "data": {
      "text/html": [
       "<div>\n",
       "<table border=\"1\" class=\"dataframe\">\n",
       "  <thead>\n",
       "    <tr style=\"text-align: right;\">\n",
       "      <th></th>\n",
       "      <th>82</th>\n",
       "      <th>14</th>\n",
       "    </tr>\n",
       "  </thead>\n",
       "  <tbody>\n",
       "    <tr>\n",
       "      <th>accuracy</th>\n",
       "      <td>0.75518</td>\n",
       "      <td>0.594745</td>\n",
       "    </tr>\n",
       "    <tr>\n",
       "      <th>f1_score</th>\n",
       "      <td>NaN</td>\n",
       "      <td>0.479412</td>\n",
       "    </tr>\n",
       "    <tr>\n",
       "      <th>false_neg</th>\n",
       "      <td>13594.00000</td>\n",
       "      <td>7347.000000</td>\n",
       "    </tr>\n",
       "    <tr>\n",
       "      <th>false_pos</th>\n",
       "      <td>0.00000</td>\n",
       "      <td>6247.000000</td>\n",
       "    </tr>\n",
       "    <tr>\n",
       "      <th>precision</th>\n",
       "      <td>NaN</td>\n",
       "      <td>0.349677</td>\n",
       "    </tr>\n",
       "    <tr>\n",
       "      <th>recall</th>\n",
       "      <td>0.00000</td>\n",
       "      <td>0.762197</td>\n",
       "    </tr>\n",
       "    <tr>\n",
       "      <th>threshold</th>\n",
       "      <td>0.82000</td>\n",
       "      <td>0.140000</td>\n",
       "    </tr>\n",
       "    <tr>\n",
       "      <th>true_neg</th>\n",
       "      <td>4407.00000</td>\n",
       "      <td>1048.000000</td>\n",
       "    </tr>\n",
       "    <tr>\n",
       "      <th>true_pos</th>\n",
       "      <td>0.00000</td>\n",
       "      <td>3359.000000</td>\n",
       "    </tr>\n",
       "  </tbody>\n",
       "</table>\n",
       "</div>"
      ],
      "text/plain": [
       "                    82           14\n",
       "accuracy       0.75518     0.594745\n",
       "f1_score           NaN     0.479412\n",
       "false_neg  13594.00000  7347.000000\n",
       "false_pos      0.00000  6247.000000\n",
       "precision          NaN     0.349677\n",
       "recall         0.00000     0.762197\n",
       "threshold      0.82000     0.140000\n",
       "true_neg    4407.00000  1048.000000\n",
       "true_pos       0.00000  3359.000000"
      ]
     },
     "execution_count": 12,
     "metadata": {},
     "output_type": "execute_result"
    }
   ],
   "source": [
    "# WITH DOMAIN FEATURES\n",
    "pd.concat([a_df1.iloc[a_df1.accuracy.argmax()], a_df1.iloc[a_df1.f1_score.argmax()]], axis =1)"
   ]
  },
  {
   "cell_type": "code",
   "execution_count": 13,
   "metadata": {
    "collapsed": false
   },
   "outputs": [],
   "source": [
    "'''\n",
    "Predicting P(>= 150 Score) based on title using Naive Bayes\n",
    "'''\n",
    "\n",
    "# List of most common words\n",
    "common_words = pd.read_csv('../lib/common_words.txt', header = None)[0]\n",
    "def remove_common_words(title, common_words):\n",
    "    tw = map(lambda d: d.strip(\".,:()!?\\\"\").lower(),title.split())\n",
    "    return [w for w in tw if w not in common_words]\n",
    "\n",
    "# Looking to see most common words in all titles\n",
    "title_s = df.title\n",
    "title_words = []\n",
    "for title in title_s:\n",
    "    title_words.extend(remove_common_words(title, common_words))\n",
    "title_words_s = pd.Series(title_words)\n",
    "title_words_s = title_words_s[~title_words_s.isin(common_words)]\n",
    "\n",
    "# removing prepositions and useless words\n",
    "title_s = title_s.apply(lambda d: remove_common_words(d, common_words))\n",
    "title_df = pd.concat([title_s, df.score], axis = 1).head()\n",
    "\n",
    "title_df_encoded = pd.DataFrame(title_s)"
   ]
  },
  {
   "cell_type": "code",
   "execution_count": 14,
   "metadata": {
    "collapsed": false
   },
   "outputs": [],
   "source": [
    "tw_unique = title_words_s.unique()\n",
    "\n",
    "def create_feature_row(title, word_vec):\n",
    "    feature_row = np.zeros((len(word_vec),))\n",
    "    for word in title:\n",
    "        if word in word_vec:\n",
    "            word_index = np.where(word_vec==word)[0][0]\n",
    "            feature_row[word_index] = 1\n",
    "    return feature_row"
   ]
  },
  {
   "cell_type": "code",
   "execution_count": 15,
   "metadata": {
    "collapsed": false
   },
   "outputs": [
    {
     "data": {
      "text/plain": [
       "261"
      ]
     },
     "execution_count": 15,
     "metadata": {},
     "output_type": "execute_result"
    }
   ],
   "source": [
    "def iterate(top_words = None, n=1000):\n",
    "    l = []\n",
    "    if top_words is None:\n",
    "        top_words = title_words_s.value_counts()[:n].index\n",
    "    for row in title_s:\n",
    "        l.append(create_feature_row(row, top_words))\n",
    "    return l\n",
    "    \n",
    "title_features_df = pd.DataFrame(iterate())\n",
    "#title_features_df = pd.DataFrame(iterate(word_bank_s))\n",
    "title_features_df.head()\n",
    "\n",
    "sum(title_features_df.sum(axis =1) == 0)"
   ]
  },
  {
   "cell_type": "code",
   "execution_count": 16,
   "metadata": {
    "collapsed": false
   },
   "outputs": [
    {
     "data": {
      "image/png": "[encoded data removed]",
      "text/plain": [
       "<matplotlib.figure.Figure at 0x1174e1f90>"
      ]
     },
     "metadata": {},
     "output_type": "display_data"
    }
   ],
   "source": [
    "X2 = pd.concat([pd.DataFrame(np.ones(len(title_features_df))),title_features_df], axis=1)\n",
    "theta2 = np.zeros((X2.shape[1],))\n",
    "res2 = minimize(logistic_cost_regularized, theta2, args=(X2.values,Y1.values), \n",
    "                method = 'Nelder-Mead', jac=logistic_grad_regularized, options={'maxiter':400})\n",
    "\n",
    "predicted_Y2 = np.array(sigmoid(X2.dot(res2.x)))\n",
    "accuracy_scores_df2 = []\n",
    "for threshold_val in np.arange(0.0,1.0,0.01):\n",
    "    p_score = prediction_score(predicted_Y2, Y1.values, threshold_val)\n",
    "    p_score['threshold'] = threshold_val\n",
    "    accuracy_scores_df2.append(p_score)\n",
    "a_df2 = pd.DataFrame(accuracy_scores_df2)\n",
    "\n",
    "\n",
    "fig = plt.figure()\n",
    "ax1 = fig.add_subplot(211)\n",
    "\n",
    "ax1.scatter(x = a_df2['threshold'], y=a_df2['accuracy'])\n",
    "ax1.set_xlabel('Threshold')\n",
    "ax1.set_ylabel('Accuracy')\n",
    "ax1.set_xlim(-.1,1.1)\n",
    "\n",
    "ax2 = fig.add_subplot(212)\n",
    "\n",
    "ax2.scatter(x = a_df2['threshold'], y=a_df2['f1_score'])\n",
    "ax2.set_xlabel('Threshold')\n",
    "ax2.set_ylabel('F1 Score')\n",
    "ax2.set_xlim(-.1,1.1)\n",
    "\n",
    "plt.show()"
   ]
  },
  {
   "cell_type": "code",
   "execution_count": 17,
   "metadata": {
    "collapsed": false
   },
   "outputs": [
    {
     "data": {
      "text/html": [
       "<div>\n",
       "<table border=\"1\" class=\"dataframe\">\n",
       "  <thead>\n",
       "    <tr style=\"text-align: right;\">\n",
       "      <th></th>\n",
       "      <th>50</th>\n",
       "      <th>0</th>\n",
       "    </tr>\n",
       "  </thead>\n",
       "  <tbody>\n",
       "    <tr>\n",
       "      <th>accuracy</th>\n",
       "      <td>0.75518</td>\n",
       "      <td>0.244820</td>\n",
       "    </tr>\n",
       "    <tr>\n",
       "      <th>f1_score</th>\n",
       "      <td>NaN</td>\n",
       "      <td>0.393342</td>\n",
       "    </tr>\n",
       "    <tr>\n",
       "      <th>false_neg</th>\n",
       "      <td>13594.00000</td>\n",
       "      <td>0.000000</td>\n",
       "    </tr>\n",
       "    <tr>\n",
       "      <th>false_pos</th>\n",
       "      <td>0.00000</td>\n",
       "      <td>13594.000000</td>\n",
       "    </tr>\n",
       "    <tr>\n",
       "      <th>precision</th>\n",
       "      <td>NaN</td>\n",
       "      <td>0.244820</td>\n",
       "    </tr>\n",
       "    <tr>\n",
       "      <th>recall</th>\n",
       "      <td>0.00000</td>\n",
       "      <td>1.000000</td>\n",
       "    </tr>\n",
       "    <tr>\n",
       "      <th>threshold</th>\n",
       "      <td>0.50000</td>\n",
       "      <td>0.000000</td>\n",
       "    </tr>\n",
       "    <tr>\n",
       "      <th>true_neg</th>\n",
       "      <td>4407.00000</td>\n",
       "      <td>0.000000</td>\n",
       "    </tr>\n",
       "    <tr>\n",
       "      <th>true_pos</th>\n",
       "      <td>0.00000</td>\n",
       "      <td>4407.000000</td>\n",
       "    </tr>\n",
       "  </tbody>\n",
       "</table>\n",
       "</div>"
      ],
      "text/plain": [
       "                    50            0 \n",
       "accuracy       0.75518      0.244820\n",
       "f1_score           NaN      0.393342\n",
       "false_neg  13594.00000      0.000000\n",
       "false_pos      0.00000  13594.000000\n",
       "precision          NaN      0.244820\n",
       "recall         0.00000      1.000000\n",
       "threshold      0.50000      0.000000\n",
       "true_neg    4407.00000      0.000000\n",
       "true_pos       0.00000   4407.000000"
      ]
     },
     "execution_count": 17,
     "metadata": {},
     "output_type": "execute_result"
    }
   ],
   "source": [
    "pd.concat([a_df2.iloc[a_df2.accuracy.argmax()], a_df2.iloc[a_df2.f1_score.argmax()]], axis =1)"
   ]
  },
  {
   "cell_type": "code",
   "execution_count": 18,
   "metadata": {
    "collapsed": false
   },
   "outputs": [
    {
     "name": "stderr",
     "output_type": "stream",
     "text": [
      "/Users/brianlin/anaconda/lib/python2.7/site-packages/ipykernel/__main__.py:21: SettingWithCopyWarning: \n",
      "A value is trying to be set on a copy of a slice from a DataFrame.\n",
      "Try using .loc[row_indexer,col_indexer] = value instead\n",
      "\n",
      "See the caveats in the documentation: http://pandas.pydata.org/pandas-docs/stable/indexing.html#indexing-view-versus-copy\n"
     ]
    }
   ],
   "source": [
    "#Generates the feature word vectors\n",
    "\n",
    "title_s1 = df.title\n",
    "title_words1 = []\n",
    "score_tw1 = []\n",
    "for i in range(len(title_s1)):\n",
    "    title_word_list = remove_common_words(title_s1.iloc[i], common_words)\n",
    "    title_words1.extend(title_word_list)\n",
    "    score_tw1.extend([df.score.iloc[i]]* len(title_word_list))\n",
    "title_words_s1 = pd.Series(title_words1)\n",
    "#title_words_s1 = title_words_s[~title_words_s.isin(common_words)]\n",
    "scores_by_word = pd.concat([title_words_s1,pd.Series(score_tw1)],axis=1).groupby(0).agg(['mean', 'count','std',np.median])\n",
    "scores_by_word15 = scores_by_word[~scores_by_word.index.isin(common_words) & (scores_by_word[1,'count'] > 10)]\n",
    "\n",
    "# computing the p value only works if its a normal distribution which it isn't. \n",
    "# Thats why I decided to sort by median instead\n",
    "def compute_p_greater_n(mean,count,std,n):\n",
    "    z = (n-mean)/(std)\n",
    "    return 1- stats.t.cdf(z,count)\n",
    "\n",
    "scores_by_word15['p_greater_150'] = scores_by_word15.apply(lambda d: compute_p_greater_n(d[1]['mean'],d[1]['count'],d[1]['std'],150), axis=1)\n",
    "word_bank = pd.concat([scores_by_word15.sort_values(by=[(1,'median')],ascending=False)[:200],scores_by_word15.sort_values(by=[(1,'median')],ascending=False)[-200:]])\n",
    "word_bank_s = np.array(word_bank.index)\n",
    "\n",
    "#title_features_bayes_df = pd.DataFrame(iterate()) # 1000 most common words\n",
    "title_features_bayes_df = pd.DataFrame(iterate(word_bank_s))"
   ]
  },
  {
   "cell_type": "code",
   "execution_count": 19,
   "metadata": {
    "collapsed": false
   },
   "outputs": [
    {
     "name": "stdout",
     "output_type": "stream",
     "text": [
      "0% done\n",
      "10% done\n",
      "20% done\n",
      "30% done\n",
      "40% done\n",
      "50% done\n",
      "60% done\n",
      "70% done\n",
      "80% done\n",
      "90% done\n",
      "done\n"
     ]
    }
   ],
   "source": [
    "# Caches the p(y) for all y and p(x|y) probabilities for all words- takes around 1-2 minutes to run \n",
    "\n",
    "py1 = float((Y1.values == 1).sum())/len(Y1)\n",
    "py0 = float((Y1.values == 0).sum())/len(Y1)\n",
    "\n",
    "bayes_y1_table = []\n",
    "bayes_y0_table = []\n",
    "deny1 = float((Y1.values == 1).sum())+2\n",
    "deny0 = float((Y1.values == 0).sum())+2\n",
    "feature_len = len(title_features_bayes_df.columns)/10\n",
    "for i in range(len(title_features_bayes_df.columns)):\n",
    "    numy1 = ((title_features_bayes_df[i] == 1).values & (Y1.values == 1)).sum()+1\n",
    "    numy0 = ((title_features_bayes_df[i] == 1).values & (Y1.values == 0)).sum()+1\n",
    "    bayes_y1_table.append(numy1/deny1)\n",
    "    bayes_y0_table.append(numy0/deny0)\n",
    "    if i % feature_len == 0:\n",
    "        print '{0}% done'.format(i/(feature_len/10))\n",
    "print'done'"
   ]
  },
  {
   "cell_type": "code",
   "execution_count": 20,
   "metadata": {
    "collapsed": false
   },
   "outputs": [
    {
     "name": "stdout",
     "output_type": "stream",
     "text": [
      "0% done\n",
      "10% done\n",
      "20% done\n",
      "30% done\n",
      "40% done\n",
      "50% done\n",
      "60% done\n",
      "70% done\n",
      "80% done\n",
      "90% done\n",
      "100% done\n",
      "done\n"
     ]
    }
   ],
   "source": [
    "# Takes around 7 minutes to run\n",
    "\n",
    "Y_predicted3 = []\n",
    "for w_index in range(len(title_features_bayes_df)):\n",
    "    row_1 = title_features_bayes_df.iloc[w_index]\n",
    "    title_p1 = 1.0\n",
    "    title_p0 = 1.0\n",
    "    for i in range(len(row_1)):\n",
    "        if row_1[i] == 1:\n",
    "            title_p1 *= bayes_y1_table[i]\n",
    "            title_p0 *= bayes_y0_table[i]\n",
    "    Y_predicted3.append(1 if title_p1*py1 > title_p0*py0 else 0)\n",
    "    if w_index % 1800 == 0:\n",
    "        print \"{0}% done\".format(w_index/180)\n",
    "print'done'"
   ]
  },
  {
   "cell_type": "code",
   "execution_count": 21,
   "metadata": {
    "collapsed": false
   },
   "outputs": [
    {
     "data": {
      "text/plain": [
       "{'accuracy': 0.7757346814065885,\n",
       " 'f1_score': 0.4551221487380213,\n",
       " 'false_neg': 12278,\n",
       " 'false_pos': 1316,\n",
       " 'precision': 0.5616255829447035,\n",
       " 'recall': 0.382573179033356,\n",
       " 'true_neg': 2721,\n",
       " 'true_pos': 1686}"
      ]
     },
     "execution_count": 21,
     "metadata": {},
     "output_type": "execute_result"
    }
   ],
   "source": [
    "# Benchmark of using Num Comments to predict it\n",
    "'''\n",
    "accuracy         0.854564\n",
    "f1_score         0.712813\n",
    "false_neg    12134.000000\n",
    "false_pos     1460.000000\n",
    "precision        0.689955\n",
    "recall           0.737236\n",
    "threshold        0.300000\n",
    "true_neg      1158.000000\n",
    "true_pos      3249.000000\n",
    "'''\n",
    "\n",
    "#Description: trained with 1000 most common words. count > 15\n",
    "'''\n",
    "{'accuracy': 0.6828509527248486,\n",
    " 'f1_score': 0.5113412650860224,\n",
    " 'false_neg': 9305,\n",
    " 'false_pos': 4289,\n",
    " 'precision': 0.4105277625068719,\n",
    " 'recall': 0.6777853415021556,\n",
    " 'true_neg': 1420,\n",
    " 'true_pos': 2987}\n",
    "'''\n",
    "\n",
    "# Desription: trained with 1000 most likely words to have score over 150 assuming normal distribution. count > 15\n",
    "\n",
    "'''\n",
    "{'accuracy': 0.5905783012054886,\n",
    " 'f1_score': 0.49200441135925005,\n",
    " 'false_neg': 7062,\n",
    " 'false_pos': 6532,\n",
    " 'precision': 0.35333135333135335,\n",
    " 'recall': 0.8098479691400046,\n",
    " 'true_neg': 838,\n",
    " 'true_pos': 3569}\n",
    "'''\n",
    "\n",
    "#Description: 300 words with highest median. count > 15\n",
    "'''\n",
    "{'accuracy': 0.7484028665074163,\n",
    " 'f1_score': 0.47948511665325827,\n",
    " 'false_neg': 11386,\n",
    " 'false_pos': 2208,\n",
    " 'precision': 0.48579413134606425,\n",
    " 'recall': 0.4733378715679601,\n",
    " 'true_neg': 2321,\n",
    " 'true_pos': 2086}\n",
    "'''\n",
    "\n",
    "#Description: 200 words with highest median + 200 words with lowest median. count > 20\n",
    "'''\n",
    "\n",
    "{'accuracy': 0.7625687461807678,\n",
    " 'f1_score': 0.4398427260812582,\n",
    " 'false_neg': 12049,\n",
    " 'false_pos': 1545,\n",
    " 'precision': 0.5206329506670804,\n",
    " 'recall': 0.38075788518266396,\n",
    " 'true_neg': 2729,\n",
    " 'true_pos': 1678}\n",
    " \n",
    " count 15\n",
    "{'accuracy': 0.7669573912560413,\n",
    " 'f1_score': 0.44678886984043253,\n",
    " 'false_neg': 12112,\n",
    " 'false_pos': 1482,\n",
    " 'precision': 0.533375314861461,\n",
    " 'recall': 0.3843884728840481,\n",
    " 'true_neg': 2713,\n",
    " 'true_pos': 1694} \n",
    " \n",
    " count > 10\n",
    " {'accuracy': 0.7747347369590578,\n",
    " 'f1_score': 0.45401911942911,\n",
    " 'false_neg': 12260,\n",
    " 'false_pos': 1334,\n",
    " 'precision': 0.5582781456953643,\n",
    " 'recall': 0.382573179033356,\n",
    " 'true_neg': 2721,\n",
    " 'true_pos': 1686}\n",
    " \n",
    "'''\n",
    "\n",
    "predicted_Y3 = np.array(Y_predicted3)\n",
    "p_score = prediction_score(predicted_Y3, Y1.values)\n",
    "p_score"
   ]
  },
  {
   "cell_type": "code",
   "execution_count": 22,
   "metadata": {
    "collapsed": false
   },
   "outputs": [
    {
     "data": {
      "image/png": "[encoded data removed]",
      "text/plain": [
       "<matplotlib.figure.Figure at 0x119efc110>"
      ]
     },
     "metadata": {},
     "output_type": "display_data"
    }
   ],
   "source": [
    "'''\n",
    "Analysis to Determine if Time of Day determines how likely a post will make the front page.\n",
    "If you find the right time to post (between 16-20)\n",
    "'''\n",
    "\n",
    "def fp_per_hour(domain= None, fp=True):\n",
    "    # returns percent of posts that make front page per hour\n",
    "    s0 = None\n",
    "    s1 = None\n",
    "    if domain == None:\n",
    "        s0 = (df[(Y1.values == 0)].created.apply(lambda d: d.hour))\n",
    "        s1 = (df[(Y1.values == 1)].created.apply(lambda d: d.hour))\n",
    "        sall = (df.created.apply(lambda d: d.hour))\n",
    "    else:\n",
    "        s0 = (df[(Y1.values == 0) & (df.domain == domain)].created.apply(lambda d: d.hour))\n",
    "        s1 = (df[(Y1.values == 1) & (df.domain == domain)].created.apply(lambda d: d.hour))\n",
    "        sall = (df[df.domain == domain].created.apply(lambda d: d.hour))\n",
    "    s0 = (s0.groupby(s0).size())\n",
    "    s1 = (s1.groupby(s1).size())\n",
    "    sall = sall.groupby(sall).size()\n",
    "    if fp:\n",
    "        return s1/sall\n",
    "    else:\n",
    "        return sall\n",
    "\n",
    "\n",
    "fig = plt.figure()\n",
    "ax1,ax2,ax3,ax4,ax5,ax6,ax7,ax8 = (fig.add_subplot(241), fig.add_subplot(242), fig.add_subplot(243), fig.add_subplot(244), \n",
    "                           fig.add_subplot(245), fig.add_subplot(246), fig.add_subplot(247), fig.add_subplot(248))\n",
    "fig.set_figheight(4)\n",
    "fig.set_figwidth(12)\n",
    "ax1.plot(fp_per_hour(None, False))\n",
    "ax1.set_title('# Posts')\n",
    "ax5.plot(fp_per_hour())\n",
    "ax5.set_title('% Posts making FP')\n",
    "\n",
    "ax2.plot(fp_per_hour('self.nba', False))\n",
    "ax2.set_title('# self.nba posts')\n",
    "ax6.plot(fp_per_hour('self.nba'))\n",
    "ax6.set_title('% Posts making FP')\n",
    "\n",
    "ax3.plot(fp_per_hour('twitter.com', False))\n",
    "ax3.set_title('# Twitter posts')\n",
    "ax7.plot(fp_per_hour('twitter.com'))\n",
    "ax7.set_title('% Twitter Posts making FP')\n",
    "                                   \n",
    "ax4.plot(fp_per_hour('youtube.com', False))\n",
    "ax4.set_title('# Youtube posts')\n",
    "ax8.plot(fp_per_hour('youtube.com'))\n",
    "ax8.set_title('% Youtube Posts making FP')\n",
    "                                   \n",
    "fig.tight_layout()"
   ]
  }
 ],
 "metadata": {
  "anaconda-cloud": {},
  "kernelspec": {
   "display_name": "Python [Root]",
   "language": "python",
   "name": "Python [Root]"
  },
  "language_info": {
   "codemirror_mode": {
    "name": "ipython",
    "version": 2
   },
   "file_extension": ".py",
   "mimetype": "text/x-python",
   "name": "python",
   "nbconvert_exporter": "python",
   "pygments_lexer": "ipython2",
   "version": "2.7.12"
  }
 },
 "nbformat": 4,
 "nbformat_minor": 0
}
