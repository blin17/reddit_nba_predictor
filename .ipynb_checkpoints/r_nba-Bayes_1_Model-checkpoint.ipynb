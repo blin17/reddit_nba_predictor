{
 "cells": [
  {
   "cell_type": "code",
   "execution_count": 21,
   "metadata": {
    "collapsed": true
   },
   "outputs": [],
   "source": [
    "'''\n",
    "Analysis of /r/nba Posts\n",
    "@author: Brian Lin\n",
    "'''\n",
    "%matplotlib inline\n",
    "import pandas as pd\n",
    "import numpy as np\n",
    "import matplotlib.pyplot as plt\n",
    "import os\n",
    "import re"
   ]
  },
  {
   "cell_type": "code",
   "execution_count": 22,
   "metadata": {
    "collapsed": false
   },
   "outputs": [],
   "source": [
    "def return_csv_files(path):\n",
    "    pattern = r'^.*\\.csv$'\n",
    "    return [f for f in os.listdir(path) if bool(re.match(pattern,f))]\n",
    "    \n",
    "path = 'data/backlog/'\n",
    "csv_files = return_csv_files(path)\n",
    "df = pd.DataFrame()\n",
    "for csv in csv_files:\n",
    "    csv_df = pd.read_csv(path + csv)\n",
    "    df = pd.concat([df,csv_df])\n",
    "df['created'] = pd.to_datetime(df.created, unit = 's')\n",
    "df.index = range(0,len(df))"
   ]
  },
  {
   "cell_type": "code",
   "execution_count": 23,
   "metadata": {
    "collapsed": false
   },
   "outputs": [],
   "source": [
    "''' \n",
    "Randomly shuffle the dataframe and generates a training, cross-validation, and test set\n",
    "'''\n",
    "random_df = df.reindex(np.random.permutation(df.index))\n",
    "training_df = random_df.iloc[0:12000]\n",
    "cross_validation_df = random_df.iloc[12000:15000]\n",
    "test_df = random_df.iloc[15000:]"
   ]
  },
  {
   "cell_type": "code",
   "execution_count": 24,
   "metadata": {
    "collapsed": true
   },
   "outputs": [],
   "source": [
    "def front_page(score,n=150):\n",
    "    if score >= n:\n",
    "        return 1\n",
    "    else:\n",
    "        return 0\n",
    "training_Y = training_df.score.apply(front_page)\n",
    "cross_validation_Y = cross_validation_df.score.apply(front_page)\n",
    "test_Y = test_df.score.apply(front_page)"
   ]
  },
  {
   "cell_type": "code",
   "execution_count": 25,
   "metadata": {
    "collapsed": false
   },
   "outputs": [],
   "source": [
    "common_words = pd.read_csv('common_words.txt', header = None)[0].values\n",
    "\n",
    "def remove_common_words(title, common_words):\n",
    "    tw = map(lambda d: d.strip(\".,:()[]!?\\\"\").lower(),title.split())\n",
    "    return [w for w in tw if w not in common_words]\n",
    "\n",
    "def generate_words_and_scores(titles, score, common_words):\n",
    "    title_words = []\n",
    "    score_words = []\n",
    "    for index in range(len(titles)):\n",
    "        title_word_list = remove_common_words(titles.iloc[index], common_words)\n",
    "        title_words.extend(title_word_list)\n",
    "        score_words.extend([scores.iloc[index]] * len(title_word_list))\n",
    "    title_words_s = pd.Series(title_words)\n",
    "    words_scores_df = pd.concat([title_words_s, pd.Series(score_words)], axis = 1)\n",
    "    words_scores_df.columns = ['word', 'score']\n",
    "    return words_scores_df\n",
    "\n",
    "titles = training_df.title\n",
    "scores = training_df.score\n",
    "word_df = generate_words_and_scores(titles,scores, common_words)\n",
    "word_df_agg = word_df.groupby('word').agg({'score':['mean','std','median','count']})"
   ]
  },
  {
   "cell_type": "code",
   "execution_count": 26,
   "metadata": {
    "collapsed": false
   },
   "outputs": [],
   "source": [
    "words_sorted_median = word_df_agg[word_df_agg[('score','count')] > 10].sort_values(by=[('score','median')], ascending=False)\n",
    "top200 = np.array(words_sorted_median[:200].index)\n",
    "bottom200 = np.array(words_sorted_median[-200:].index)\n",
    "top_bottom200 = np.array(pd.concat([words_sorted_median[:200],words_sorted_median[-200:]]).index)"
   ]
  },
  {
   "cell_type": "code",
   "execution_count": 27,
   "metadata": {
    "collapsed": false
   },
   "outputs": [],
   "source": [
    "#Generates the feature word vectors\n",
    "def create_feature_row(title, word_vec):\n",
    "    feature_row = np.zeros((len(word_vec),))\n",
    "    for word in title:\n",
    "        if word in word_vec:\n",
    "            word_index = np.where(word_vec==word)[0][0]\n",
    "            feature_row[word_index] = 1\n",
    "    return feature_row\n",
    "\n",
    "def generate_feature_vector(title_s, top_words, common_words):\n",
    "    l = []\n",
    "    for title in title_s:\n",
    "        title_r = remove_common_words(title, common_words)\n",
    "        l.append(create_feature_row(title_r, top_words))\n",
    "    return l\n",
    "\n",
    "def sanitize_titles(title_s):\n",
    "    l = []\n",
    "    for title in title_s:\n",
    "        title_r = remove_common_words(title, common_words)\n",
    "        l.append(title_r)\n",
    "    return l"
   ]
  },
  {
   "cell_type": "code",
   "execution_count": 28,
   "metadata": {
    "collapsed": true
   },
   "outputs": [],
   "source": [
    "def prediction_score(predicted_p, Y,threshold=0.5):\n",
    "    def greater_than_one_half(x):\n",
    "        if x > threshold:\n",
    "            return 1\n",
    "        else:\n",
    "            return 0\n",
    "        \n",
    "    predicted_Y = np.array([greater_than_one_half(x) for x in predicted_p])\n",
    "    true_pos = 0\n",
    "    false_pos = 0\n",
    "    true_neg = 0\n",
    "    false_neg = 0\n",
    "    for i in range(len(predicted_Y)):\n",
    "        if predicted_Y[i] == 1 and Y[i] == 1:\n",
    "            true_pos +=1\n",
    "        elif predicted_Y[i] == 1 and Y[i] == 0:\n",
    "            false_pos +=1\n",
    "        elif predicted_Y[i] == 0 and Y[i] == 1:\n",
    "            true_neg +=1\n",
    "        elif predicted_Y[i] == 0 and Y[i] == 0:\n",
    "            false_neg +=1\n",
    "    \n",
    "    wrong = float(np.sum(np.abs(predicted_Y - Y)))\n",
    "    total = float(len(predicted_Y))\n",
    "    ans = dict()\n",
    "    ans['accuracy'] =  1-(wrong/total)\n",
    "    ans['true_pos'] = true_pos\n",
    "    ans['true_neg'] = true_neg\n",
    "    ans['false_pos'] = false_pos\n",
    "    ans['false_neg'] = false_neg\n",
    "    if true_pos == 0 and false_pos == 0:\n",
    "        ans['recall'] = float(true_pos) / float((true_pos + true_neg))\n",
    "    elif true_pos == 0 and true_neg == 0:\n",
    "        ans['precision'] = float(true_pos) / float((true_pos + false_pos))\n",
    "    else:\n",
    "        ans['precision'] = float(true_pos) / float((true_pos + false_pos))\n",
    "        ans['recall'] = float(true_pos) / float((true_pos + true_neg))\n",
    "        ans['f1_score'] = 2 * ans['precision'] * ans['recall'] / (ans['precision'] + ans['recall'] )\n",
    "    return ans"
   ]
  },
  {
   "cell_type": "code",
   "execution_count": 29,
   "metadata": {
    "collapsed": false
   },
   "outputs": [],
   "source": [
    "def generate_bayes_prob(words, X, Y):\n",
    "    pxy1 = {}\n",
    "    pxy0 = {}\n",
    "    for index in range(len(words)):\n",
    "        word = words[index]\n",
    "        pxy1[word] = float(sum((X.iloc[:,index] == 1) & (Y == 1)) +1) / float(sum(Y.values == 1) +2)\n",
    "        pxy0[word] = float(sum((X.iloc[:,index] == 1) & (Y == 0)) +1) / float(sum(Y.values == 0) +2)\n",
    "    return pxy1, pxy0\n",
    "\n",
    "def calculate_prob(sanitized_title_list,debug=False):\n",
    "    global bayes_pxy1,bayes_pxy0, py1, py0,pno1, pno0\n",
    "    pyx1 = 1.0\n",
    "    pyx0 = 1.0\n",
    "    for word in sanitized_title_list:\n",
    "        if word in bayes_pxy1:\n",
    "            pyx1 *= bayes_pxy1[word]\n",
    "            pyx0 *= bayes_pxy0[word]\n",
    "            if debug:\n",
    "                print 'yes'\n",
    "        else:\n",
    "            # applies a factor if word not seen before\n",
    "            #pyx1 *= pno1\n",
    "            #pyx0 *= pno0\n",
    "            if debug:\n",
    "                print 'no'    \n",
    "        if debug:\n",
    "            print word, pyx1, pyx0\n",
    "    return pyx1*py1, pyx0*py0"
   ]
  },
  {
   "cell_type": "code",
   "execution_count": 30,
   "metadata": {
    "collapsed": true
   },
   "outputs": [],
   "source": [
    "#word_vector = np.array(word_df_agg.index)\n",
    "word_vector = top_bottom200\n",
    "title_features_bayes_df = pd.DataFrame(generate_feature_vector(titles,word_vector,common_words), index = training_df.index)\n",
    "sum(title_features_bayes_df.sum(axis =1) == 0)\n",
    "bayes_pxy1,bayes_pxy0 = generate_bayes_prob(word_vector, title_features_bayes_df, training_Y)\n",
    "Y = training_Y\n",
    "py1 = float(sum(Y.values == 1)) / len(Y)\n",
    "py0 = float(sum(Y.values == 0)) / len(Y)\n",
    "pno1 = 1/float(sum(Y.values == 1))\n",
    "pno0 = 1/float(sum(Y.values == 0))"
   ]
  },
  {
   "cell_type": "code",
   "execution_count": 31,
   "metadata": {
    "collapsed": false
   },
   "outputs": [
    {
     "data": {
      "text/plain": [
       "2276"
      ]
     },
     "execution_count": 31,
     "metadata": {},
     "output_type": "execute_result"
    }
   ],
   "source": [
    "sanitized_titles = sanitize_titles(training_df.title)\n",
    "class_probs = []\n",
    "for i in range(len(sanitized_titles)):\n",
    "    title = sanitized_titles[i]\n",
    "    class_probs.append(calculate_prob(title))\n",
    "probs = pd.DataFrame(class_probs)\n",
    "sum(probs[0] > probs[1])"
   ]
  },
  {
   "cell_type": "code",
   "execution_count": 32,
   "metadata": {
    "collapsed": false
   },
   "outputs": [
    {
     "data": {
      "text/html": [
       "<div>\n",
       "<table border=\"1\" class=\"dataframe\">\n",
       "  <thead>\n",
       "    <tr style=\"text-align: right;\">\n",
       "      <th></th>\n",
       "      <th>title</th>\n",
       "      <th>score</th>\n",
       "      <th>0</th>\n",
       "      <th>1</th>\n",
       "    </tr>\n",
       "  </thead>\n",
       "  <tbody>\n",
       "    <tr>\n",
       "      <th>6168</th>\n",
       "      <td>Udonis Haslem is in the process of completing ...</td>\n",
       "      <td>248.0</td>\n",
       "      <td>2.242454e-04</td>\n",
       "      <td>6.330393e-05</td>\n",
       "    </tr>\n",
       "    <tr>\n",
       "      <th>3448</th>\n",
       "      <td>The ‘Summer of JR’ continues with an autograph...</td>\n",
       "      <td>1861.0</td>\n",
       "      <td>1.082595e-03</td>\n",
       "      <td>9.164645e-04</td>\n",
       "    </tr>\n",
       "    <tr>\n",
       "      <th>16388</th>\n",
       "      <td>Bill Simmon's opinions regarding the decision ...</td>\n",
       "      <td>493.0</td>\n",
       "      <td>4.347336e-09</td>\n",
       "      <td>3.677956e-09</td>\n",
       "    </tr>\n",
       "    <tr>\n",
       "      <th>8007</th>\n",
       "      <td>[Deveney] Source told SN that 3 teams have exp...</td>\n",
       "      <td>24.0</td>\n",
       "      <td>9.873492e-05</td>\n",
       "      <td>2.921720e-05</td>\n",
       "    </tr>\n",
       "    <tr>\n",
       "      <th>12546</th>\n",
       "      <td>Saric:I played like a pus*y, I have been bad f...</td>\n",
       "      <td>439.0</td>\n",
       "      <td>3.134912e-08</td>\n",
       "      <td>7.295120e-09</td>\n",
       "    </tr>\n",
       "  </tbody>\n",
       "</table>\n",
       "</div>"
      ],
      "text/plain": [
       "                                                   title   score  \\\n",
       "6168   Udonis Haslem is in the process of completing ...   248.0   \n",
       "3448   The ‘Summer of JR’ continues with an autograph...  1861.0   \n",
       "16388  Bill Simmon's opinions regarding the decision ...   493.0   \n",
       "8007   [Deveney] Source told SN that 3 teams have exp...    24.0   \n",
       "12546  Saric:I played like a pus*y, I have been bad f...   439.0   \n",
       "\n",
       "                  0             1  \n",
       "6168   2.242454e-04  6.330393e-05  \n",
       "3448   1.082595e-03  9.164645e-04  \n",
       "16388  4.347336e-09  3.677956e-09  \n",
       "8007   9.873492e-05  2.921720e-05  \n",
       "12546  3.134912e-08  7.295120e-09  "
      ]
     },
     "execution_count": 32,
     "metadata": {},
     "output_type": "execute_result"
    }
   ],
   "source": [
    "probs.index = training_df.index\n",
    "pd.concat([training_df[probs[0] > probs[1]][['title','score']], probs], axis=1, join= 'inner').head()"
   ]
  },
  {
   "cell_type": "code",
   "execution_count": 33,
   "metadata": {
    "collapsed": false
   },
   "outputs": [
    {
     "data": {
      "image/png": "[encoded data removed]",
      "text/plain": [
       "<matplotlib.figure.Figure at 0x11502f890>"
      ]
     },
     "metadata": {},
     "output_type": "display_data"
    }
   ],
   "source": [
    "'''\n",
    "Analysis to Determine if Time of Day determines how likely a post will make the front page.\n",
    "If you find the right time to post (between 16-20)\n",
    "'''\n",
    "\n",
    "def fp_per_hour(domain= None, fp=True):\n",
    "    # returns percent of posts that make front page per hour\n",
    "    s0 = None\n",
    "    s1 = None\n",
    "    if domain == None:\n",
    "        s0 = (training_df[(Y.values == 0)].created.apply(lambda d: d.hour))\n",
    "        s1 = (training_df[(Y.values == 1)].created.apply(lambda d: d.hour))\n",
    "        sall = (training_df.created.apply(lambda d: d.hour))\n",
    "    else:\n",
    "        s0 = (training_df[(Y.values == 0) & (training_df.domain == domain)].created.apply(lambda d: d.hour))\n",
    "        s1 = (training_df[(Y.values == 1) & (training_df.domain == domain)].created.apply(lambda d: d.hour))\n",
    "        sall = (training_df[training_df.domain == domain].created.apply(lambda d: d.hour))\n",
    "    s0 = (s0.groupby(s0).size())\n",
    "    s1 = (s1.groupby(s1).size())\n",
    "    sall = sall.groupby(sall).size()\n",
    "    if fp:\n",
    "        return s1/sall\n",
    "    else:\n",
    "        return sall\n",
    "\n",
    "\n",
    "fig = plt.figure()\n",
    "ax1,ax2,ax3,ax4,ax5,ax6,ax7,ax8 = (fig.add_subplot(241), fig.add_subplot(242), fig.add_subplot(243), fig.add_subplot(244), \n",
    "                           fig.add_subplot(245), fig.add_subplot(246), fig.add_subplot(247), fig.add_subplot(248))\n",
    "fig.set_figheight(4)\n",
    "fig.set_figwidth(12)\n",
    "ax1.plot(fp_per_hour(None, False))\n",
    "ax1.set_title('# Posts')\n",
    "ax5.plot(fp_per_hour())\n",
    "ax5.set_title('% Posts making FP')\n",
    "\n",
    "ax2.plot(fp_per_hour('self.nba', False))\n",
    "ax2.set_title('# self.nba posts')\n",
    "ax6.plot(fp_per_hour('self.nba'))\n",
    "ax6.set_title('% Posts making FP')\n",
    "\n",
    "ax3.plot(fp_per_hour('twitter.com', False))\n",
    "ax3.set_title('# Twitter posts')\n",
    "ax7.plot(fp_per_hour('twitter.com'))\n",
    "ax7.set_title('% Twitter Posts making FP')\n",
    "                                   \n",
    "ax4.plot(fp_per_hour('youtube.com', False))\n",
    "ax4.set_title('# Youtube posts')\n",
    "ax8.plot(fp_per_hour('youtube.com'))\n",
    "ax8.set_title('% Youtube Posts making FP')\n",
    "                                   \n",
    "fig.tight_layout()"
   ]
  },
  {
   "cell_type": "code",
   "execution_count": 34,
   "metadata": {
    "collapsed": false
   },
   "outputs": [
    {
     "data": {
      "text/plain": [
       "{'accuracy': 0.77,\n",
       " 'f1_score': 0.4702495201535508,\n",
       " 'false_neg': 8015,\n",
       " 'false_pos': 1051,\n",
       " 'precision': 0.5382249560632689,\n",
       " 'recall': 0.4175187457396046,\n",
       " 'true_neg': 1709,\n",
       " 'true_pos': 1225}"
      ]
     },
     "execution_count": 34,
     "metadata": {},
     "output_type": "execute_result"
    }
   ],
   "source": [
    "Y_predicted3 = probs.apply(lambda d: 1 if d[0] > d[1] else 0, axis = 1)\n",
    "predicted_Y3 = np.array(Y_predicted3)\n",
    "p_score = prediction_score(predicted_Y3, Y.values)\n",
    "p_score"
   ]
  },
  {
   "cell_type": "code",
   "execution_count": 35,
   "metadata": {
    "collapsed": false,
    "scrolled": true
   },
   "outputs": [
    {
     "data": {
      "text/plain": [
       "<matplotlib.axes._subplots.AxesSubplot at 0x116e65e90>"
      ]
     },
     "execution_count": 35,
     "metadata": {},
     "output_type": "execute_result"
    },
    {
     "data": {
      "image/png": "[encoded data removed]",
      "text/plain": [
       "<matplotlib.figure.Figure at 0x113873610>"
      ]
     },
     "metadata": {},
     "output_type": "display_data"
    }
   ],
   "source": [
    "training_df[(predicted_Y3 == 1) & (Y.values == 1)][['title','score','domain','created']].domain.value_counts()[:15].plot(kind='barh')"
   ]
  },
  {
   "cell_type": "code",
   "execution_count": null,
   "metadata": {
    "collapsed": true
   },
   "outputs": [],
   "source": []
  }
 ],
 "metadata": {
  "anaconda-cloud": {},
  "kernelspec": {
   "display_name": "Python [Root]",
   "language": "python",
   "name": "Python [Root]"
  },
  "language_info": {
   "codemirror_mode": {
    "name": "ipython",
    "version": 2
   },
   "file_extension": ".py",
   "mimetype": "text/x-python",
   "name": "python",
   "nbconvert_exporter": "python",
   "pygments_lexer": "ipython2",
   "version": "2.7.12"
  }
 },
 "nbformat": 4,
 "nbformat_minor": 0
}
