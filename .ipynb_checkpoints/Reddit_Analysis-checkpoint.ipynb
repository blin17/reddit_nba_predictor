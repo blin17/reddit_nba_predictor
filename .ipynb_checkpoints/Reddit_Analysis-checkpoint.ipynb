{
 "cells": [
  {
   "cell_type": "code",
   "execution_count": 133,
   "metadata": {
    "collapsed": false
   },
   "outputs": [],
   "source": [
    "'''\n",
    "Analysis of /r/nba Posts\n",
    "@author: Brian Lin\n",
    "'''\n",
    "%matplotlib inline\n",
    "import pandas as pd\n",
    "import numpy as np\n",
    "import matplotlib.pyplot as plt\n",
    "import os\n",
    "import re\n",
    "\n",
    "def return_csv_files(path):\n",
    "    pattern = r'^.*\\.csv$'\n",
    "    return [f for f in os.listdir(path) if bool(re.match(pattern,f))]\n",
    "    \n",
    "path = 'data/backlog/'\n",
    "csv_files = return_csv_files(path)\n",
    "df = pd.DataFrame()\n",
    "for csv in csv_files:\n",
    "    csv_df = pd.read_csv(path + csv)\n",
    "    df = pd.concat([df,csv_df])\n",
    "df['created'] = pd.to_datetime(df.created, unit = 's')\n",
    "\n",
    "# 18,001 total examples with no duplicates"
   ]
  },
  {
   "cell_type": "code",
   "execution_count": 115,
   "metadata": {
    "collapsed": false
   },
   "outputs": [],
   "source": [
    "# top domains by value_count\n",
    "top_domains = ['selfnba', 'twitter','youtube','streamable','instagram','espn','imgur','nbacom','theringer','yahoo','bleacherreport']\n",
    "domain_df = pd.DataFrame()\n",
    "domains = df.domain.apply(lambda d: ''.join(d.split('.')))\n",
    "\n",
    "def strip_domain(d):\n",
    "    for td in top_domains:\n",
    "        if td in d:\n",
    "            return td\n",
    "    return 'other'\n",
    "\n",
    "\n",
    "domain_df['domain'] = domains.apply(strip_domain)\n",
    "domain_df['score'] = df.score\n",
    "for td in top_domains:\n",
    "    domain_df[td] = domains.apply(lambda d: td in d)"
   ]
  },
  {
   "cell_type": "code",
   "execution_count": 156,
   "metadata": {
    "collapsed": false
   },
   "outputs": [
    {
     "data": {
      "image/png": "[encoded data removed]",
      "text/plain": [
       "<matplotlib.figure.Figure at 0x122c8af10>"
      ]
     },
     "metadata": {},
     "output_type": "display_data"
    }
   ],
   "source": [
    "def normalize(column):\n",
    "    mean = np.mean(column)\n",
    "    sd = np.std(column)\n",
    "    return column.apply(lambda d: (d-mean)/sd)\n",
    "\n",
    "def plot_normalized_scatter(x,y,labels):\n",
    "    fig, ax = plt.subplots()\n",
    "    ax.scatter(x,y)\n",
    "    for i, txt in enumerate(n):\n",
    "        ax.annotate(txt, (x[i],y[i]))\n",
    "    plt.plot([0,0], [-5,5], color='k')\n",
    "    plt.plot([5,-5], [0,0], color='k')\n",
    "    plt.xlim(-1, 3.5)\n",
    "    plt.ylim(-1.5, 3.5)\n",
    "    plt.ylabel('Avg Score (normalized)')\n",
    "    plt.xlabel('# Posts (normalized)')\n",
    "    \n",
    "\n",
    "norm_domain_df = domain_df.groupby('domain').agg({'score':[np.mean,np.size]}).apply(normalize)\n",
    "x = norm_domain_df['score']['size']\n",
    "y = norm_domain_df['score']['mean']\n",
    "n = norm_domain_df.index\n",
    "plot_normalized_scatter(x,y,n)"
   ]
  },
  {
   "cell_type": "code",
   "execution_count": 159,
   "metadata": {
    "collapsed": false
   },
   "outputs": [
    {
     "data": {
      "text/plain": [
       "count    18001.000000\n",
       "mean       210.539970\n",
       "std        548.597572\n",
       "min          0.000000\n",
       "25%          6.000000\n",
       "50%         27.000000\n",
       "75%        144.000000\n",
       "max       6296.000000\n",
       "Name: score, dtype: float64"
      ]
     },
     "execution_count": 159,
     "metadata": {},
     "output_type": "execute_result"
    }
   ],
   "source": [
    "scores_df = df[['score','num_comments']]\n",
    "# >100 front page worthty\n",
    "scores_df.score.describe()"
   ]
  }
 ],
 "metadata": {
  "kernelspec": {
   "display_name": "Python [Root]",
   "language": "python",
   "name": "Python [Root]"
  },
  "language_info": {
   "codemirror_mode": {
    "name": "ipython",
    "version": 2
   },
   "file_extension": ".py",
   "mimetype": "text/x-python",
   "name": "python",
   "nbconvert_exporter": "python",
   "pygments_lexer": "ipython2",
   "version": "2.7.12"
  }
 },
 "nbformat": 4,
 "nbformat_minor": 0
}
