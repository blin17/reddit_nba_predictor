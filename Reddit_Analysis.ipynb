{
 "cells": [
  {
   "cell_type": "code",
   "execution_count": 77,
   "metadata": {
    "collapsed": false
   },
   "outputs": [],
   "source": [
    "'''\n",
    "Analysis of /r/nba Posts\n",
    "@author: Brian Lin\n",
    "'''\n",
    "%matplotlib inline\n",
    "import pandas as pd\n",
    "import numpy as np\n",
    "import matplotlib.pyplot as plt\n",
    "import os\n",
    "import re\n",
    "from scipy.optimize import minimize\n",
    "from sklearn import metrics\n",
    "from sklearn.preprocessing import PolynomialFeatures"
   ]
  },
  {
   "cell_type": "code",
   "execution_count": 78,
   "metadata": {
    "collapsed": true
   },
   "outputs": [],
   "source": [
    "def return_csv_files(path):\n",
    "    pattern = r'^.*\\.csv$'\n",
    "    return [f for f in os.listdir(path) if bool(re.match(pattern,f))]\n",
    "    \n",
    "path = 'data/backlog/'\n",
    "csv_files = return_csv_files(path)\n",
    "df = pd.DataFrame()\n",
    "for csv in csv_files:\n",
    "    csv_df = pd.read_csv(path + csv)\n",
    "    df = pd.concat([df,csv_df])\n",
    "df['created'] = pd.to_datetime(df.created, unit = 's')\n",
    "\n",
    "# 18,001 total examples with no duplicates"
   ]
  },
  {
   "cell_type": "code",
   "execution_count": 126,
   "metadata": {
    "collapsed": false
   },
   "outputs": [],
   "source": [
    "# top domains by value_count\n",
    "top_domains = ['selfnba', 'twitter','youtube','streamable','instagram','espn','imgur','nbacom','theringer','yahoo','bleacherreport']\n",
    "domain_df = pd.DataFrame()\n",
    "domains = df.domain.apply(lambda d: ''.join(d.split('.')))\n",
    "\n",
    "def strip_domain(d):\n",
    "    for td in top_domains:\n",
    "        if td in d:\n",
    "            return td\n",
    "    return 'other'\n",
    "\n",
    "\n",
    "domain_df['domain'] = domains.apply(strip_domain)\n",
    "domain_df['score'] = df.score\n",
    "for td in top_domains:\n",
    "    domain_df[td] = domains.apply(lambda d: 1 if td in d else 0)"
   ]
  },
  {
   "cell_type": "code",
   "execution_count": 80,
   "metadata": {
    "collapsed": false
   },
   "outputs": [
    {
     "data": {
      "image/png": "[encoded data removed]",
      "text/plain": [
       "<matplotlib.figure.Figure at 0x116fb11d0>"
      ]
     },
     "metadata": {},
     "output_type": "display_data"
    }
   ],
   "source": [
    "def normalize(column):\n",
    "    mean = np.mean(column)\n",
    "    sd = np.std(column)\n",
    "    return column.apply(lambda d: (d-mean)/sd)\n",
    "\n",
    "def plot_normalized_scatter(x,y,labels):\n",
    "    fig, ax = plt.subplots()\n",
    "    ax.scatter(x,y)\n",
    "    for i, txt in enumerate(n):\n",
    "        ax.annotate(txt, (x[i],y[i]))\n",
    "    plt.plot([0,0], [-5,5], color='k')\n",
    "    plt.plot([5,-5], [0,0], color='k')\n",
    "    plt.xlim(-1, 3.5)\n",
    "    plt.ylim(-1.5, 3.5)\n",
    "    plt.ylabel('Avg Score (normalized)')\n",
    "    plt.xlabel('# Posts (normalized)')\n",
    "    \n",
    "\n",
    "norm_domain_df = domain_df.groupby('domain').agg({'score':[np.mean,np.size]}).apply(normalize)\n",
    "x = norm_domain_df['score']['size']\n",
    "y = norm_domain_df['score']['mean']\n",
    "n = norm_domain_df.index\n",
    "\n",
    "plot_normalized_scatter(x,y,n)"
   ]
  },
  {
   "cell_type": "code",
   "execution_count": 81,
   "metadata": {
    "collapsed": false
   },
   "outputs": [
    {
     "data": {
      "text/plain": [
       "0.0    10985\n",
       "1.0     4407\n",
       "0.5     2609\n",
       "Name: score, dtype: int64"
      ]
     },
     "execution_count": 81,
     "metadata": {},
     "output_type": "execute_result"
    }
   ],
   "source": [
    "def front_page_or_not(score,flag = 0):\n",
    "    # karma >= 150 = front_page, s = 1\n",
    "    # 150 > karma >= 50 = iffy, s = 0.5\n",
    "    # 50 > karma = not front_page, s = 0\n",
    "    if score >= 150:\n",
    "        return 1\n",
    "    elif score >= 50:\n",
    "        if flag == 1:\n",
    "            return 1\n",
    "        else:\n",
    "            return 0.5\n",
    "    else:\n",
    "        return 0\n",
    "\n",
    "front_page_ser = df.score.apply(front_page_or_not)\n",
    "front_page_ser.value_counts()"
   ]
  },
  {
   "cell_type": "code",
   "execution_count": 82,
   "metadata": {
    "collapsed": false
   },
   "outputs": [
    {
     "data": {
      "text/plain": [
       "count    18001.000000\n",
       "mean       210.539970\n",
       "std        548.597572\n",
       "min          0.000000\n",
       "25%          6.000000\n",
       "50%         27.000000\n",
       "75%        144.000000\n",
       "max       6296.000000\n",
       "Name: score, dtype: float64"
      ]
     },
     "execution_count": 82,
     "metadata": {},
     "output_type": "execute_result"
    }
   ],
   "source": [
    "df.score.describe()"
   ]
  },
  {
   "cell_type": "code",
   "execution_count": 83,
   "metadata": {
    "collapsed": false
   },
   "outputs": [
    {
     "name": "stdout",
     "output_type": "stream",
     "text": [
      "0.215622450606\n"
     ]
    },
    {
     "data": {
      "image/png": "[encoded data removed]",
      "text/plain": [
       "<matplotlib.figure.Figure at 0x11b76a510>"
      ]
     },
     "metadata": {},
     "output_type": "display_data"
    }
   ],
   "source": [
    "r = np.corrcoef(df.num_comments,front_page_ser)[0][1]\n",
    "b = front_page_ser.std()/df.num_comments.std() * r\n",
    "a = front_page_ser.mean() - df.num_comments.mean()*b\n",
    "\n",
    "plt.scatter(df.num_comments, front_page_ser)\n",
    "plt.plot([df.num_comments.min(),df.num_comments.max()],[df.num_comments.min()*b + a,df.num_comments.max()*b + a])\n",
    "print r\n"
   ]
  },
  {
   "cell_type": "code",
   "execution_count": 170,
   "metadata": {
    "collapsed": true
   },
   "outputs": [],
   "source": [
    "def prediction_score(predicted_p, Y,threshold=0.5):\n",
    "    def greater_than_one_half(x):\n",
    "        if x > threshold:\n",
    "            return 1\n",
    "        else:\n",
    "            return 0\n",
    "        \n",
    "    predicted_Y = np.array([greater_than_one_half(x) for x in predicted_p])\n",
    "    true_pos = 0\n",
    "    false_pos = 0\n",
    "    true_neg = 0\n",
    "    false_neg = 0\n",
    "    for i in range(len(predicted_Y)):\n",
    "        if predicted_Y[i] == 1 and Y[i] == 1:\n",
    "            true_pos +=1\n",
    "        elif predicted_Y[i] == 1 and Y[i] == 0:\n",
    "            false_pos +=1\n",
    "        elif predicted_Y[i] == 0 and Y[i] == 1:\n",
    "            true_neg +=1\n",
    "        elif predicted_Y[i] == 0 and Y[i] == 0:\n",
    "            false_neg +=1\n",
    "    \n",
    "    wrong = float(np.sum(np.abs(predicted_Y - Y)))\n",
    "    total = float(len(X))\n",
    "    ans = dict()\n",
    "    ans['accuracy'] =  1-(wrong/total)\n",
    "    ans['true_pos'] = true_pos\n",
    "    ans['true_neg'] = true_neg\n",
    "    ans['false_pos'] = false_pos\n",
    "    ans['false_neg'] = false_neg\n",
    "    if true_pos == 0 and false_pos == 0:\n",
    "        ans['recall'] = float(true_pos) / float((true_pos + true_neg))\n",
    "    elif true_pos == 0 and true_neg == 0:\n",
    "        ans['precision'] = float(true_pos) / float((true_pos + false_pos))\n",
    "    else:\n",
    "        ans['precision'] = float(true_pos) / float((true_pos + false_pos))\n",
    "        ans['recall'] = float(true_pos) / float((true_pos + true_neg))\n",
    "        ans['f1_score'] = 2 * ans['precision'] * ans['recall'] / (ans['precision'] + ans['recall'] )\n",
    "    return ans"
   ]
  },
  {
   "cell_type": "code",
   "execution_count": 203,
   "metadata": {
    "collapsed": false
   },
   "outputs": [
    {
     "data": {
      "text/plain": [
       "[]"
      ]
     },
     "execution_count": 203,
     "metadata": {},
     "output_type": "execute_result"
    },
    {
     "data": {
      "image/png": "[encoded data removed]",
      "text/plain": [
       "<matplotlib.figure.Figure at 0x1160dca50>"
      ]
     },
     "metadata": {},
     "output_type": "display_data"
    }
   ],
   "source": [
    "def front_page(score,n=150):\n",
    "    if score >= n:\n",
    "        return 1\n",
    "    else:\n",
    "        return 0\n",
    "\n",
    "def sigmoid(z):\n",
    "    return np.power(1 + np.exp(-z), -1)\n",
    "\n",
    "def logistic_cost_regularized(theta, Xdata, Ydata, lam=1):\n",
    "    # NB Xdata must be a numpy array\n",
    "\n",
    "    m = float(len(Xdata))\n",
    "    \n",
    "    J = (\n",
    "        - 1/m * (np.log(sigmoid(Xdata.dot(theta))).dot(Ydata) + \n",
    "        np.log(1-sigmoid(Xdata.dot(theta))).dot(1-Ydata) ) + \n",
    "        lam/(2*m) * np.sum(theta[1:] ** 2) \n",
    "        )\n",
    "    if np.isnan(J):\n",
    "        return(np.inf)\n",
    "    return(J)\n",
    "\n",
    "def logistic_grad_regularized(theta, Xdata, Ydata, lam=1):\n",
    "    # NB Xdata must be a numpy array\n",
    "    m = float(len(Xdata))\n",
    "    \n",
    "    grad = theta.copy() * lam\n",
    "    grad[0] = 0\n",
    "    grad += Xdata.T.dot(sigmoid(Xdata.dot(theta))-Ydata)\n",
    "    grad *= 1/m \n",
    "    \n",
    "    return grad \n",
    "\n",
    "X = normalize(df.num_comments)\n",
    "Y = df.score.apply(front_page)\n",
    "poly = PolynomialFeatures(1)\n",
    "X_Transformed = poly.fit_transform(X.values.reshape(len(X),1))\n",
    "Y = Y.values\n",
    "theta = np.zeros((X_Transformed.shape[1],))\n",
    "res = minimize(logistic_cost_regularized, theta, args=(X_Transformed,Y), method = 'Nelder-Mead', jac=logistic_grad_regularized, options={'maxiter':400})\n",
    "\n",
    "predicted_Y = np.array(sigmoid(X_Transformed.dot(res.x)))\n",
    "\n",
    "plt.scatter(X, sigmoid(X_Transformed.dot(res.x)))\n",
    "plt.xlim(-500,5000)\n",
    "\n",
    "plt.plot()"
   ]
  },
  {
   "cell_type": "code",
   "execution_count": 86,
   "metadata": {
    "collapsed": false
   },
   "outputs": [
    {
     "data": {
      "image/png": "[encoded data removed]",
      "text/plain": [
       "<matplotlib.figure.Figure at 0x117176410>"
      ]
     },
     "metadata": {},
     "output_type": "display_data"
    }
   ],
   "source": [
    "\n",
    "score_df = pd.DataFrame()\n",
    "accuracy_scores_df = []\n",
    "for threshold_val in np.arange(0.0,1.0,0.01):\n",
    "    p_score = prediction_score(predicted_Y, Y, threshold_val)\n",
    "    p_score['threshold'] = threshold_val\n",
    "    accuracy_scores_df.append(p_score)\n",
    "a_df = pd.DataFrame(accuracy_scores_df)\n",
    "\n",
    "fig = plt.figure()\n",
    "ax1 = fig.add_subplot(211)\n",
    "\n",
    "ax1.scatter(x = a_df['threshold'], y=a_df['accuracy'])\n",
    "ax1.set_xlabel('Threshold')\n",
    "ax1.set_ylabel('Accuracy')\n",
    "\n",
    "ax2 = fig.add_subplot(212)\n",
    "\n",
    "ax2.scatter(x = a_df['threshold'], y=a_df['f1_score'])\n",
    "ax2.set_xlabel('Threshold')\n",
    "ax2.set_ylabel('F1 Score')\n",
    "\n",
    "plt.show()"
   ]
  },
  {
   "cell_type": "code",
   "execution_count": 121,
   "metadata": {
    "collapsed": false
   },
   "outputs": [
    {
     "data": {
      "text/plain": [
       "X    129.000000\n",
       "Y      0.250225\n",
       "Name: 9100, dtype: float64"
      ]
     },
     "execution_count": 121,
     "metadata": {},
     "output_type": "execute_result"
    }
   ],
   "source": [
    "num_comments_logit_df =  pd.concat([pd.DataFrame(X.values, columns= [\"X\"]),pd.DataFrame(predicted_Y, columns= [\"Y\"])], axis=1)\n",
    "num_comments_logit_df[num_comments_logit_df.Y > .25].sort_values(by=\"X\").iloc[0]"
   ]
  },
  {
   "cell_type": "code",
   "execution_count": 201,
   "metadata": {
    "collapsed": false
   },
   "outputs": [
    {
     "data": {
      "image/png": "[encoded data removed]",
      "text/plain": [
       "<matplotlib.figure.Figure at 0x11d45b150>"
      ]
     },
     "metadata": {},
     "output_type": "display_data"
    }
   ],
   "source": [
    "x_data = domain_df.iloc[:,2:]\n",
    "x_data = pd.concat([x_data,df.num_comments], axis = 1)\n",
    "x_data['num_comments'] = normalize(x_data['num_comments'])\n",
    "Y1 = df.score.apply(front_page)\n",
    "poly1 = PolynomialFeatures(1)\n",
    "X_Transformed1 = poly1.fit_transform(x_data.values)\n",
    "\n",
    "theta1 = np.zeros((X_Transformed1.shape[1],))\n",
    "res1 = minimize(logistic_cost_regularized, theta1, args=(X_Transformed1,Y.values), \n",
    "                method = 'Nelder-Mead', jac=logistic_grad_regularized, options={'maxiter':400})\n",
    "predicted_Y1 = np.array(sigmoid(X_Transformed1.dot(res1.x)))\n",
    "accuracy_scores_df1 = []\n",
    "for threshold_val in np.arange(0.0,1.0,0.01):\n",
    "    p_score = prediction_score(predicted_Y1, Y1.values, threshold_val)\n",
    "    p_score['threshold'] = threshold_val\n",
    "    accuracy_scores_df1.append(p_score)\n",
    "a_df1 = pd.DataFrame(accuracy_scores_df1)\n",
    "a_df1\n",
    "\n",
    "\n",
    "fig = plt.figure()\n",
    "ax1 = fig.add_subplot(211)\n",
    "\n",
    "ax1.scatter(x = a_df1['threshold'], y=a_df1['accuracy'])\n",
    "ax1.set_xlabel('Threshold')\n",
    "ax1.set_ylabel('Accuracy')\n",
    "\n",
    "ax2 = fig.add_subplot(212)\n",
    "\n",
    "ax2.scatter(x = a_df1['threshold'], y=a_df1['f1_score'])\n",
    "ax2.set_xlabel('Threshold')\n",
    "ax2.set_ylabel('F1 Score')\n",
    "\n",
    "plt.show()"
   ]
  },
  {
   "cell_type": "code",
   "execution_count": 200,
   "metadata": {
    "collapsed": false
   },
   "outputs": [
    {
     "data": {
      "text/html": [
       "<div>\n",
       "<table border=\"1\" class=\"dataframe\">\n",
       "  <thead>\n",
       "    <tr style=\"text-align: right;\">\n",
       "      <th></th>\n",
       "      <th>51</th>\n",
       "      <th>44</th>\n",
       "    </tr>\n",
       "  </thead>\n",
       "  <tbody>\n",
       "    <tr>\n",
       "      <th>accuracy</th>\n",
       "      <td>0.842120</td>\n",
       "      <td>0.775735</td>\n",
       "    </tr>\n",
       "    <tr>\n",
       "      <th>f1_score</th>\n",
       "      <td>0.550459</td>\n",
       "      <td>0.606185</td>\n",
       "    </tr>\n",
       "    <tr>\n",
       "      <th>false_neg</th>\n",
       "      <td>13419.000000</td>\n",
       "      <td>10857.000000</td>\n",
       "    </tr>\n",
       "    <tr>\n",
       "      <th>false_pos</th>\n",
       "      <td>175.000000</td>\n",
       "      <td>2737.000000</td>\n",
       "    </tr>\n",
       "    <tr>\n",
       "      <th>precision</th>\n",
       "      <td>0.908616</td>\n",
       "      <td>0.531656</td>\n",
       "    </tr>\n",
       "    <tr>\n",
       "      <th>recall</th>\n",
       "      <td>0.394826</td>\n",
       "      <td>0.705015</td>\n",
       "    </tr>\n",
       "    <tr>\n",
       "      <th>threshold</th>\n",
       "      <td>0.510000</td>\n",
       "      <td>0.440000</td>\n",
       "    </tr>\n",
       "    <tr>\n",
       "      <th>true_neg</th>\n",
       "      <td>2667.000000</td>\n",
       "      <td>1300.000000</td>\n",
       "    </tr>\n",
       "    <tr>\n",
       "      <th>true_pos</th>\n",
       "      <td>1740.000000</td>\n",
       "      <td>3107.000000</td>\n",
       "    </tr>\n",
       "  </tbody>\n",
       "</table>\n",
       "</div>"
      ],
      "text/plain": [
       "                     51            44\n",
       "accuracy       0.842120      0.775735\n",
       "f1_score       0.550459      0.606185\n",
       "false_neg  13419.000000  10857.000000\n",
       "false_pos    175.000000   2737.000000\n",
       "precision      0.908616      0.531656\n",
       "recall         0.394826      0.705015\n",
       "threshold      0.510000      0.440000\n",
       "true_neg    2667.000000   1300.000000\n",
       "true_pos    1740.000000   3107.000000"
      ]
     },
     "execution_count": 200,
     "metadata": {},
     "output_type": "execute_result"
    }
   ],
   "source": [
    "# WITH DOMAIN FEATURES\n",
    "pd.concat([a_df1.iloc[a_df1.accuracy.argmax()], a_df1.iloc[a_df1.f1_score.argmax()]], axis =1)"
   ]
  },
  {
   "cell_type": "code",
   "execution_count": 196,
   "metadata": {
    "collapsed": false
   },
   "outputs": [
    {
     "data": {
      "text/html": [
       "<div>\n",
       "<table border=\"1\" class=\"dataframe\">\n",
       "  <thead>\n",
       "    <tr style=\"text-align: right;\">\n",
       "      <th></th>\n",
       "      <th>25</th>\n",
       "      <th>24</th>\n",
       "    </tr>\n",
       "  </thead>\n",
       "  <tbody>\n",
       "    <tr>\n",
       "      <th>accuracy</th>\n",
       "      <td>0.861674</td>\n",
       "      <td>0.857286</td>\n",
       "    </tr>\n",
       "    <tr>\n",
       "      <th>f1_score</th>\n",
       "      <td>0.668795</td>\n",
       "      <td>0.710600</td>\n",
       "    </tr>\n",
       "    <tr>\n",
       "      <th>false_neg</th>\n",
       "      <td>12997.000000</td>\n",
       "      <td>12278.000000</td>\n",
       "    </tr>\n",
       "    <tr>\n",
       "      <th>false_pos</th>\n",
       "      <td>597.000000</td>\n",
       "      <td>1316.000000</td>\n",
       "    </tr>\n",
       "    <tr>\n",
       "      <th>precision</th>\n",
       "      <td>0.808100</td>\n",
       "      <td>0.705593</td>\n",
       "    </tr>\n",
       "    <tr>\n",
       "      <th>recall</th>\n",
       "      <td>0.570456</td>\n",
       "      <td>0.715680</td>\n",
       "    </tr>\n",
       "    <tr>\n",
       "      <th>threshold</th>\n",
       "      <td>0.250000</td>\n",
       "      <td>0.240000</td>\n",
       "    </tr>\n",
       "    <tr>\n",
       "      <th>true_neg</th>\n",
       "      <td>1893.000000</td>\n",
       "      <td>1253.000000</td>\n",
       "    </tr>\n",
       "    <tr>\n",
       "      <th>true_pos</th>\n",
       "      <td>2514.000000</td>\n",
       "      <td>3154.000000</td>\n",
       "    </tr>\n",
       "  </tbody>\n",
       "</table>\n",
       "</div>"
      ],
      "text/plain": [
       "                     25            24\n",
       "accuracy       0.861674      0.857286\n",
       "f1_score       0.668795      0.710600\n",
       "false_neg  12997.000000  12278.000000\n",
       "false_pos    597.000000   1316.000000\n",
       "precision      0.808100      0.705593\n",
       "recall         0.570456      0.715680\n",
       "threshold      0.250000      0.240000\n",
       "true_neg    1893.000000   1253.000000\n",
       "true_pos    2514.000000   3154.000000"
      ]
     },
     "execution_count": 196,
     "metadata": {},
     "output_type": "execute_result"
    }
   ],
   "source": [
    "# WITH ONLY NUM COMMENTS\n",
    "# If Threshold is .25, accuracy is .86, f1_score is .66\n",
    "pd.concat([a_df.iloc[a_df.accuracy.argmax()], a_df.iloc[a_df.f1_score.argmax()]], axis =1)"
   ]
  }
 ],
 "metadata": {
  "kernelspec": {
   "display_name": "Python [Root]",
   "language": "python",
   "name": "Python [Root]"
  },
  "language_info": {
   "codemirror_mode": {
    "name": "ipython",
    "version": 2
   },
   "file_extension": ".py",
   "mimetype": "text/x-python",
   "name": "python",
   "nbconvert_exporter": "python",
   "pygments_lexer": "ipython2",
   "version": "2.7.12"
  }
 },
 "nbformat": 4,
 "nbformat_minor": 0
}
